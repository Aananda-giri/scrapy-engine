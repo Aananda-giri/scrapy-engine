{
 "cells": [
  {
   "cell_type": "markdown",
   "metadata": {},
   "source": [
    "\n",
    "\n",
    "we have mongo db (free plan) with 500MB storage. and we plan to use it for giving worker_spider urls to crawl.\n",
    "here is our initial plan. what do you think and can you please help me implement these things in python?\n",
    "\n",
    "# data structure:\n",
    "url: <str url with max. len. 250>\n",
    "status: one of: to_crawl, crawling\n",
    "timestamp: time.time()\n",
    "crawling_count\n",
    "\n",
    "\n",
    "while True:\n",
    "    * continuous-refill urls to_crawl (filtered urls from worker-spider)\n",
    "    \n",
    "    * if len(urls_in_mongo) > 6_000_000:\n",
    "        * save 1 million urls to local storage\n",
    "    \n",
    "    * if len(urls_in_mongo) < 1_000_000 and there are urls in local_storage:\n",
    "        * save 1 million urls from local storage to mongo\n",
    "\n",
    "    * worker-spider takes a urls from mongo (we set the status to: 'crawling')\n",
    "    * if we get data within 15 minutes, we delete the url from mongo and add it to bloom filter (so that we dont crawl it again)\n",
    "    * if we do not get crawled data within 15 minutes, we put url back to status: \"to_crawl\" and increment crawling_count by 1\n",
    "    * if crawling_count > 3: some error must have been occured: add url to another error_bloom_filter and remove url from mongo\n",
    "    \n",
    "so far we have implemented following code:\n",
    "```\n",
    "from mongo import Mongo\n",
    "\n",
    "mongo = Mongo() # connection logic\n",
    "collection = mongo.collection\n",
    "```\n",
    "\n",
    "```\n",
    "class error_bloom_filter with funcitons:\n",
    "    check(url)  # check if url exists in this bloom filter\n",
    "    add(url)\n",
    "\n",
    "class crawled_bloom_filter with functions:\n",
    "    check(url)  # check if url exists in this bloom filter\n",
    "    add(url)\n",
    "```"
   ]
  }
 ],
 "metadata": {
  "language_info": {
   "name": "python"
  }
 },
 "nbformat": 4,
 "nbformat_minor": 2
}
