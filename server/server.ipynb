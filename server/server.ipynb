{
 "cells": [
  {
   "cell_type": "markdown",
   "metadata": {},
   "source": [
    "# Re-initialize Database\n",
    "* note:It will delete everything in MongoDb, Redis and .csv files"
   ]
  },
  {
   "cell_type": "code",
   "execution_count": 4,
   "metadata": {},
   "outputs": [],
   "source": [
    "data = {'crawled_data': [{'_id': '665418f989e8c8ad1279e6ca', 'parent_url': 'https://www.bbc.com/nepali/news-56479552', 'page_title': 'अफगानिस्तान: अमेरिकी रक्षामन्त्री काबुलको अघोषित भ्रमणमा - BBC News नेपाली', 'paragraph': '2024 बीबीसी| अन्य वेबसाइटका सामग्रीहरूका लागि बीबीसी जिम्मेवार छैन|'}, {'_id': '665418f97410b9d73f248f58', 'parent_url': 'https://psc.gov.np/others/4/66d76d49088264ae5ff41858114d6f45a8f9cf761ff513b4cfea13f732fcc4ac1217abb0e47e68aae52ec052ab1e139b973b297b84c34634420be112a84e562cb7jlkaXpbSkEHqzsd2LpwQuHgs3oOkp30Kbad3AJdIc-.html', 'page_title': 'Public Service Commission', 'paragraph': ' पो.ब.नं.: ८९७९'}, {'_id': '665418ffc79b5d3603789b94', 'parent_url': 'https://www.bbc.com/nepali/news-53942049', 'page_title': 'समुद्री आँधी लोराका कारण अमेरिकामा निकै क्षति - BBC News नेपाली', 'paragraph': 'समुद्री आँधी लोराका कारण अमेरिकामा निकै क्षति'}], 'other_data': [{'_id': '665418fa7410b9d73f248f59', 'parent_url': 'https://psc.gov.np/others/4/66d76d49088264ae5ff41858114d6f45a8f9cf761ff513b4cfea13f732fcc4ac1217abb0e47e68aae52ec052ab1e139b973b297b84c34634420be112a84e562cb7jlkaXpbSkEHqzsd2LpwQuHgs3oOkp30Kbad3AJdIc-.html', 'url': 'https://www.facebook.com/hello.psc', 'text': ' ', 'link_type': 'social_media', 'link_description': 'facebook'}, {'_id': '665418fa92bd0061f87f2c73', 'parent_url': 'https://chautarasangachowkgadhimun.gov.np/ne/vacancyteacher0123', 'url': 'https://chautarasangachowkgadhimun.gov.np/sites/chautarasangachowkgadhimun.gov.np/files/field/image/IMG_0001_page-0001_2.jpg', 'text': '', 'link_type': 'document', 'link_description': 'image'}]}"
   ]
  },
  {
   "cell_type": "code",
   "execution_count": 5,
   "metadata": {},
   "outputs": [
    {
     "name": "stdout",
     "output_type": "stream",
     "text": [
      "dict_keys(['_id', 'parent_url', 'page_title', 'paragraph'])\n",
      "dict_keys(['_id', 'parent_url', 'url', 'text', 'link_type', 'link_description'])\n"
     ]
    }
   ],
   "source": [
    "for key, data_items in data.items():\n",
    "    # field_names = ['paragraph', 'parent_url', 'page_title', 'is_nepali_confidence']\n",
    "    field_names = data_items[0].keys()\n",
    "    print(field_names)\n",
    "    \n",
    "    # with open(csv_file_path, 'a', newline='', encoding='utf-8') as csvfile:\n",
    "    #     # Create a CSV writer object\n",
    "    #     csv_writer = csv.DictWriter(csvfile, fieldnames=field_names)\n",
    "        \n",
    "    #     # If the file doesn't exist, write the header\n",
    "    #     if not file_exists:\n",
    "    #         csv_writer.writeheader()\n",
    "        \n",
    "    #     # Append the new data\n",
    "    #     csv_writer.writerows(data_items)"
   ]
  },
  {
   "cell_type": "markdown",
   "metadata": {},
   "source": [
    "### Mongo"
   ]
  },
  {
   "cell_type": "code",
   "execution_count": null,
   "metadata": {},
   "outputs": [
    {
     "ename": "",
     "evalue": "",
     "output_type": "error",
     "traceback": [
      "\u001b[1;31mRunning cells with 'ioe_env (Python 3.12.3)' requires the ipykernel package.\n",
      "\u001b[1;31mRun the following command to install 'ipykernel' into the Python environment. \n",
      "\u001b[1;31mCommand: '/home/anon/Documents/ioe_env/bin/python -m pip install ipykernel -U --force-reinstall'"
     ]
    }
   ],
   "source": [
    "# Convert all urls with status: crawled -> to_crawl\n",
    "\n",
    "from mongo import Mongo\n",
    "db=Mongo()\n",
    "db.recover_expired_crawling(0)"
   ]
  },
  {
   "cell_type": "code",
   "execution_count": 3,
   "metadata": {},
   "outputs": [],
   "source": [
    "from mongo import Mongo\n",
    "mongo=Mongo()\n",
    "\n",
    "crawled_data = list(mongo.db['crawled_data'].find())\n",
    "other_data = list(mongo.db['other_data'].find())"
   ]
  },
  {
   "cell_type": "code",
   "execution_count": 6,
   "metadata": {},
   "outputs": [
    {
     "data": {
      "text/plain": [
       "<pymongo.command_cursor.CommandCursor at 0x7fc2f0187c40>"
      ]
     },
     "execution_count": 6,
     "metadata": {},
     "output_type": "execute_result"
    }
   ],
   "source": [
    "# Shuffle to_crawl links in mongo db\n",
    "from mongo import Mongo\n",
    "mongo=Mongo()\n",
    "\n",
    "mongo.collection.aggregate([\n",
    "    {\"$unwind\": {\"path\": \"$to_crawl\"}},\n",
    "    {\"$sample\": { \"size\": 400000 } },   # to shuffle values upto particular index\n",
    "    {\"$group\": {\"_id\": \"$_id\",\"to_crawl\": {\"$push\": \"$to_crawl\"}}},\n",
    "    ])"
   ]
  },
  {
   "cell_type": "code",
   "execution_count": 15,
   "metadata": {},
   "outputs": [],
   "source": [
    "# Get 10 urls to_crawl\n",
    "from mongo import Mongo\n",
    "mongo=Mongo()\n",
    "\n",
    "# to_crawl = list(mongo.collection.find({\"status\":\"to_crawl\"}).limit(10))\n",
    "\n",
    "# Get 10 random to_crawl urls\n",
    "\n",
    "random_urls = list(mongo.collection.aggregate([\n",
    "    {\"$match\": {\"status\": \"to_crawl\"}},\n",
    "    {\"$sample\": {\"size\": 10}}\n",
    "]))\n",
    "\n",
    "if random_urls:\n",
    "    mongo.collection.update_many(\n",
    "        {'_id': {'$in': [url['_id'] for url in random_urls]}},\n",
    "        {'$set': {'status':'crawling'}}\n",
    "    )"
   ]
  },
  {
   "cell_type": "code",
   "execution_count": 24,
   "metadata": {},
   "outputs": [
    {
     "name": "stdout",
     "output_type": "stream",
     "text": [
      "{'writeErrors': [{'index': 1, 'code': 11000, 'errmsg': 'E11000 duplicate key error collection: scrapy-engine.urls-collection index: url_1 dup key: { url: \"some url\" }', 'keyPattern': {'url': 1}, 'keyValue': {'url': 'some url'}, 'op': {'url': 'some url', '_id': ObjectId('66541ba36acde7dd916ad9c7')}}], 'writeConcernErrors': [], 'nInserted': 2, 'nUpserted': 0, 'nMatched': 0, 'nModified': 0, 'nRemoved': 0, 'upserted': []}\n"
     ]
    }
   ],
   "source": [
    "from mongo import Mongo\n",
    "mongo = Mongo()\n",
    "\n",
    "the_crawled_data = [\n",
    "    {\"url\": \"some url\"},\n",
    "    {\"url\": \"some url\"},\n",
    "    {\"url\": \"some other url\"}\n",
    "]\n",
    "\n",
    "try:\n",
    "    a = mongo.collection.insert_many(the_crawled_data, ordered=False)\n",
    "except Exception as e:\n",
    "    print(e.details)"
   ]
  },
  {
   "cell_type": "code",
   "execution_count": 28,
   "metadata": {},
   "outputs": [
    {
     "name": "stdout",
     "output_type": "stream",
     "text": [
      "None\n"
     ]
    },
    {
     "data": {
      "text/plain": [
       "DeleteResult({'n': 0, 'electionId': ObjectId('7fffffff0000000000000404'), 'opTime': {'ts': Timestamp(1716788153, 59), 't': 1028}, 'ok': 1.0, '$clusterTime': {'clusterTime': Timestamp(1716788153, 59), 'signature': {'hash': b'\\xe54\\xc3\\xa8\\xc0qB\\xc4n\\xb4>\\xaa\\x9d\\x99\\xccO\\x02\\x84\\x8b\\xea', 'keyId': 7318892626235621378}}, 'operationTime': Timestamp(1716788153, 59)}, acknowledged=True)"
      ]
     },
     "execution_count": 28,
     "metadata": {},
     "output_type": "execute_result"
    }
   ],
   "source": [
    "the_url=\"some other url\"\n",
    "print(mongo.collection.find_one({\"url\":the_url}))\n",
    "mongo.collection.delete_one({\"url\":the_url})"
   ]
  },
  {
   "cell_type": "code",
   "execution_count": 7,
   "metadata": {},
   "outputs": [
    {
     "data": {
      "text/plain": [
       "DeleteResult({'n': 0, 'electionId': ObjectId('7fffffff0000000000000404'), 'opTime': {'ts': Timestamp(1716787622, 8), 't': 1028}, 'ok': 1.0, '$clusterTime': {'clusterTime': Timestamp(1716787622, 10), 'signature': {'hash': b'F\\xfe\\x8db\\xef\\xd5\\x1e2em\\xcb\\xa2\\xf2\\x9c\\xff.H\\x01LY', 'keyId': 7318892626235621378}}, 'operationTime': Timestamp(1716787622, 8)}, acknowledged=True)"
      ]
     },
     "execution_count": 7,
     "metadata": {},
     "output_type": "execute_result"
    }
   ],
   "source": [
    "# delete datas by id\n",
    "mongo.db['crawled_cata'].delete_one({\"_id\": \"665418f66acde7dd916ad9bc\"})"
   ]
  },
  {
   "cell_type": "code",
   "execution_count": 15,
   "metadata": {},
   "outputs": [],
   "source": [
    "# GEt by id665418f66acde7dd916ad9bc\n",
    "mongo.db[\"crawled_data\"].find_one({\"_id\": a.inserted_ids[1]})"
   ]
  },
  {
   "cell_type": "code",
   "execution_count": 20,
   "metadata": {},
   "outputs": [
    {
     "data": {
      "text/plain": [
       "[{'_id': ObjectId('664769cb01d86a0c334cf8ea'),\n",
       "  'url': 'https://psc.gov.np/others/4/0ff5e9304edca4c5019439ef471ea2ded6df7b4b62d024392e6f9a77fafa383b45e7e00cc2b2371b1b0e4fcaf5948b333db4ee7d94c2b6f857465a01fddf0e61CEUXy~j23zbSR1YufMX7xwF0M4t9d8GVuKUcqx0JmdY-.html',\n",
       "  'timestamp': 1715956171.8236551,\n",
       "  'status': 'crawling'}]"
      ]
     },
     "execution_count": 20,
     "metadata": {},
     "output_type": "execute_result"
    }
   ],
   "source": [
    "# Get url by id\n",
    "a=mongo.collection.find({\"url\": 'https://psc.gov.np/others/4/0ff5e9304edca4c5019439ef471ea2ded6df7b4b62d024392e6f9a77fafa383b45e7e00cc2b2371b1b0e4fcaf5948b333db4ee7d94c2b6f857465a01fddf0e61CEUXy~j23zbSR1YufMX7xwF0M4t9d8GVuKUcqx0JmdY-.html'})\n",
    "list(a)"
   ]
  },
  {
   "cell_type": "code",
   "execution_count": null,
   "metadata": {},
   "outputs": [],
   "source": [
    "from mongo import Mongo\n",
    "mongo=Mongo()\n",
    "\n",
    "# Set log level\n",
    "mongo.db.command({\"setParameter\": 1, \"logComponentVerbosity\": {\"verbosity\": 1}})"
   ]
  },
  {
   "cell_type": "code",
   "execution_count": 58,
   "metadata": {},
   "outputs": [
    {
     "name": "stdout",
     "output_type": "stream",
     "text": [
      "DB Size:  173.65856742858887\n",
      "Storage Size:  106.703125\n",
      "Free Storage Space:  0.0\n"
     ]
    }
   ],
   "source": [
    "db=mongo.db\n",
    "# Get database stats\n",
    "stats = db.command(\"dbstats\")\n",
    "\n",
    "# Print the stats\n",
    "print(\"DB Size: \", stats['dataSize']/(1024*1024))\n",
    "print(\"Storage Size: \", stats['storageSize']/(1024*1024))\n",
    "print(\"Free Storage Space: \", stats['totalFreeStorageSize']/(1024*1024))"
   ]
  },
  {
   "cell_type": "code",
   "execution_count": 66,
   "metadata": {},
   "outputs": [
    {
     "name": "stdout",
     "output_type": "stream",
     "text": [
      "db: scrapy-engine\n",
      "collections: 11\n",
      "views: 0\n",
      "objects: 0.716404914855957 Mb\n",
      "avgObjSize: 242.40281414527325\n",
      "dataSize: 173.65856742858887 Mb\n",
      "storageSize: 106.703125 Mb\n",
      "totalFreeStorageSize: 0\n",
      "numExtents: 0\n",
      "indexes: 18\n",
      "indexSize: 139.48828125 Mb\n",
      "indexFreeStorageSize: 0\n",
      "fileSize: 0\n",
      "nsSizeMB: 0\n",
      "ok: 1\n"
     ]
    }
   ],
   "source": [
    "for key in stats:\n",
    "    if type(stats[key])!=str and stats[key] > 1024:\n",
    "        print(f'{key}: {stats[key]/(1024*1024)} Mb')\n",
    "    else:\n",
    "        print(f'{key}: {stats[key]}')"
   ]
  },
  {
   "cell_type": "code",
   "execution_count": 65,
   "metadata": {},
   "outputs": [
    {
     "data": {
      "text/plain": [
       "int"
      ]
     },
     "execution_count": 65,
     "metadata": {},
     "output_type": "execute_result"
    }
   ],
   "source": [
    "type(stats[key])"
   ]
  },
  {
   "cell_type": "code",
   "execution_count": 48,
   "metadata": {},
   "outputs": [
    {
     "name": "stdout",
     "output_type": "stream",
     "text": [
      "Free Storage Space:  173.62867164611816\n"
     ]
    }
   ],
   "source": [
    "print(\"Free Storage Space: \", stats['dataSize']/(1024*1024))"
   ]
  },
  {
   "cell_type": "code",
   "execution_count": 29,
   "metadata": {},
   "outputs": [
    {
     "data": {
      "text/plain": [
       "123320"
      ]
     },
     "execution_count": 29,
     "metadata": {},
     "output_type": "execute_result"
    }
   ],
   "source": [
    "# len(to_crawl)\n",
    "from mongo import Mongo\n",
    "db=Mongo()\n",
    "\n",
    "# length of to_crawl\n",
    "db.collection.count_documents({\"status\": \"crawled\"})"
   ]
  },
  {
   "cell_type": "code",
   "execution_count": 69,
   "metadata": {},
   "outputs": [
    {
     "name": "stdout",
     "output_type": "stream",
     "text": [
      "** Crawl Queue Status **\n",
      "To Crawl: 626,640\n",
      "Crawling: 395\n",
      "Crawled: 123,927\n"
     ]
    }
   ],
   "source": [
    "\n",
    "import locale\n",
    "locale.setlocale(locale.LC_ALL, 'en_US.UTF-8')\n",
    "from mongo import Mongo\n",
    "db=Mongo()\n",
    "\n",
    "# length of to_crawl\n",
    "to_crawl_count = db.collection.count_documents({\"status\": \"to_crawl\"})\n",
    "crawling_count = db.collection.count_documents({\"status\": \"crawling\"})\n",
    "crawled_count = db.collection.count_documents({\"status\": \"crawled\"})\n",
    "\n",
    "# Nice formatted view for to_crawl, crawled and crawling\n",
    "# Formatted output\n",
    "print(\"** Crawl Queue Status **\")\n",
    "print(f\"To Crawl: {locale.format_string('%d', to_crawl_count, grouping=True)}\")\n",
    "print(f\"Crawling: {locale.format_string('%d', crawling_count, grouping=True)}\")\n",
    "print(f\"Crawled: {locale.format_string('%d', crawled_count, grouping=True)}\")"
   ]
  },
  {
   "cell_type": "code",
   "execution_count": null,
   "metadata": {},
   "outputs": [],
   "source": [
    "from mongo import Mongo\n",
    "db=Mongo()\n",
    "\n",
    "# # delete all \"to_crawl\" urls starting with \"https://www.bbc.com\" that do not start with \"https://www.bbc.com/nepali\"\n",
    "collection = db.collection\n",
    "collection.delete_many({\"status\": \"to_crawl\", \"url\": {\"$regex\": \"^https://www.bbc.com\", \"$not\": {\"$regex\": \"^https://www.bbc.com/nepali\"}}})\n",
    "collection.delete_many({\"status\": \"crawling\", \"url\": {\"$regex\": \"^https://www.bbc.com\", \"$not\": {\"$regex\": \"^https://www.bbc.com/nepali\"}}})\n",
    "\n",
    "collection.delete_many({\"status\": \"to_crawl\", \"url\": {\"$regex\": \"^https://www.bbc.co.uk/\", \"$not\": {\"$regex\": \"^https://www.bbc.co.uk/nepali\"}}})\n",
    "collection.delete_many({\"status\": \"crawling\", \"url\": {\"$regex\": \"^https://www.bbc.co.uk/\", \"$not\": {\"$regex\": \"^https://www.bbc.co.uk/nepali\"}}})"
   ]
  },
  {
   "cell_type": "code",
   "execution_count": 2,
   "metadata": {},
   "outputs": [
    {
     "data": {
      "text/plain": [
       "DeleteResult({'n': 1842, 'electionId': ObjectId('7fffffff0000000000000400'), 'opTime': {'ts': Timestamp(1714996543, 904), 't': 1024}, 'ok': 1.0, '$clusterTime': {'clusterTime': Timestamp(1714996543, 906), 'signature': {'hash': b'S\\x07\\xf5\\x03l\\x98\\xdd\\xc2d\\xa7t\\xfa(T\\xd8aH\\xc2\\xe9,', 'keyId': 7318892626235621378}}, 'operationTime': Timestamp(1714996543, 904)}, acknowledged=True)"
      ]
     },
     "execution_count": 2,
     "metadata": {},
     "output_type": "execute_result"
    }
   ],
   "source": [
    "## Delete all (does-not require re-indexing)\n",
    "db.collection.delete_many({})"
   ]
  },
  {
   "cell_type": "code",
   "execution_count": 3,
   "metadata": {},
   "outputs": [
    {
     "data": {
      "text/plain": [
       "'url_1'"
      ]
     },
     "execution_count": 3,
     "metadata": {},
     "output_type": "execute_result"
    }
   ],
   "source": [
    "# Create index for unique url\n",
    "db.collection.create_index('url', unique=True)"
   ]
  },
  {
   "cell_type": "code",
   "execution_count": 2,
   "metadata": {},
   "outputs": [
    {
     "ename": "BulkWriteError",
     "evalue": "batch op errors occurred, full error: {'writeErrors': [{'index': 0, 'code': 11000, 'errmsg': 'E11000 duplicate key error collection: scrapy-engine.urls-collection index: url_1 dup key: { url: \"https://www.pariwartankhabar.com/\" }', 'keyPattern': {'url': 1}, 'keyValue': {'url': 'https://www.pariwartankhabar.com/'}, 'op': {'url': 'https://www.pariwartankhabar.com/', 'timestamp': 1716703630.6513743, 'status': 'to_crawl', '_id': ObjectId('6652d18e6ced4b2145aaf2b7')}}], 'writeConcernErrors': [], 'nInserted': 0, 'nUpserted': 0, 'nMatched': 0, 'nModified': 0, 'nRemoved': 0, 'upserted': []}",
     "output_type": "error",
     "traceback": [
      "\u001b[0;31m---------------------------------------------------------------------------\u001b[0m",
      "\u001b[0;31mBulkWriteError\u001b[0m                            Traceback (most recent call last)",
      "Cell \u001b[0;32mIn[2], line 8\u001b[0m\n\u001b[1;32m      4\u001b[0m db_handler \u001b[38;5;241m=\u001b[39m MongoDBHandler(collection_name\u001b[38;5;241m=\u001b[39m\u001b[38;5;124m\"\u001b[39m\u001b[38;5;124mscrapy-engine\u001b[39m\u001b[38;5;124m\"\u001b[39m, db_name\u001b[38;5;241m=\u001b[39m\u001b[38;5;124m\"\u001b[39m\u001b[38;5;124mscrapy-engine\u001b[39m\u001b[38;5;124m\"\u001b[39m)\n\u001b[1;32m      6\u001b[0m start_urls \u001b[38;5;241m=\u001b[39m [\u001b[38;5;124m\"\u001b[39m\u001b[38;5;124mhttps://www.pariwartankhabar.com/\u001b[39m\u001b[38;5;124m\"\u001b[39m]\n\u001b[0;32m----> 8\u001b[0m \u001b[43mdb_handler\u001b[49m\u001b[38;5;241;43m.\u001b[39;49m\u001b[43minsert_many\u001b[49m\u001b[43m(\u001b[49m\u001b[43m[\u001b[49m\u001b[43m{\u001b[49m\u001b[38;5;124;43m'\u001b[39;49m\u001b[38;5;124;43murl\u001b[39;49m\u001b[38;5;124;43m'\u001b[39;49m\u001b[43m:\u001b[49m\u001b[43murl\u001b[49m\u001b[43m,\u001b[49m\u001b[43m \u001b[49m\u001b[38;5;124;43m'\u001b[39;49m\u001b[38;5;124;43mtimestamp\u001b[39;49m\u001b[38;5;124;43m'\u001b[39;49m\u001b[43m:\u001b[49m\u001b[43mtime\u001b[49m\u001b[38;5;241;43m.\u001b[39;49m\u001b[43mtime\u001b[49m\u001b[43m(\u001b[49m\u001b[43m)\u001b[49m\u001b[43m,\u001b[49m\u001b[43m \u001b[49m\u001b[38;5;124;43m'\u001b[39;49m\u001b[38;5;124;43mstatus\u001b[39;49m\u001b[38;5;124;43m'\u001b[39;49m\u001b[43m:\u001b[49m\u001b[38;5;124;43m'\u001b[39;49m\u001b[38;5;124;43mto_crawl\u001b[39;49m\u001b[38;5;124;43m'\u001b[39;49m\u001b[43m}\u001b[49m\u001b[43m \u001b[49m\u001b[38;5;28;43;01mfor\u001b[39;49;00m\u001b[43m \u001b[49m\u001b[43murl\u001b[49m\u001b[43m \u001b[49m\u001b[38;5;129;43;01min\u001b[39;49;00m\u001b[43m \u001b[49m\u001b[43mstart_urls\u001b[49m\u001b[43m]\u001b[49m\u001b[43m,\u001b[49m\u001b[43m \u001b[49m\u001b[43mcollection_name\u001b[49m\u001b[38;5;241;43m=\u001b[39;49m\u001b[38;5;124;43m'\u001b[39;49m\u001b[38;5;124;43murls-collection\u001b[39;49m\u001b[38;5;124;43m'\u001b[39;49m\u001b[43m)\u001b[49m\n",
      "File \u001b[0;32m/mnt/resources2/weekly-projects/scrapy_engine/server/mongo_db_handler.py:82\u001b[0m, in \u001b[0;36mMongoDBHandler.insert_many\u001b[0;34m(self, data, collection_name)\u001b[0m\n\u001b[1;32m     80\u001b[0m     collection \u001b[38;5;241m=\u001b[39m \u001b[38;5;28mself\u001b[39m\u001b[38;5;241m.\u001b[39mdb[collection_name]\n\u001b[1;32m     81\u001b[0m \u001b[38;5;28;01mif\u001b[39;00m \u001b[38;5;28mtype\u001b[39m(data) \u001b[38;5;241m==\u001b[39m \u001b[38;5;28mlist\u001b[39m:\n\u001b[0;32m---> 82\u001b[0m     \u001b[43mcollection\u001b[49m\u001b[38;5;241;43m.\u001b[39;49m\u001b[43minsert_many\u001b[49m\u001b[43m(\u001b[49m\u001b[43mdata\u001b[49m\u001b[43m)\u001b[49m\n\u001b[1;32m     83\u001b[0m \u001b[38;5;28;01melif\u001b[39;00m \u001b[38;5;28mtype\u001b[39m(data) \u001b[38;5;241m==\u001b[39m \u001b[38;5;28mdict\u001b[39m:\n\u001b[1;32m     84\u001b[0m     \u001b[38;5;66;03m# Prepare a list of documents with custom _id values\u001b[39;00m\n\u001b[1;32m     85\u001b[0m     documents_to_insert \u001b[38;5;241m=\u001b[39m [\n\u001b[1;32m     86\u001b[0m         {\u001b[38;5;124m'\u001b[39m\u001b[38;5;124m_id\u001b[39m\u001b[38;5;124m'\u001b[39m: doc_id, \u001b[38;5;124m'\u001b[39m\u001b[38;5;124mdata\u001b[39m\u001b[38;5;124m'\u001b[39m: doc_data} \u001b[38;5;28;01mfor\u001b[39;00m doc_id, doc_data \u001b[38;5;129;01min\u001b[39;00m data\u001b[38;5;241m.\u001b[39mitems()\n\u001b[1;32m     87\u001b[0m     ]\n",
      "File \u001b[0;32m~/mambaforge/envs/machine_env/lib/python3.10/site-packages/pymongo/_csot.py:108\u001b[0m, in \u001b[0;36mapply.<locals>.csot_wrapper\u001b[0;34m(self, *args, **kwargs)\u001b[0m\n\u001b[1;32m    106\u001b[0m         \u001b[38;5;28;01mwith\u001b[39;00m _TimeoutContext(timeout):\n\u001b[1;32m    107\u001b[0m             \u001b[38;5;28;01mreturn\u001b[39;00m func(\u001b[38;5;28mself\u001b[39m, \u001b[38;5;241m*\u001b[39margs, \u001b[38;5;241m*\u001b[39m\u001b[38;5;241m*\u001b[39mkwargs)\n\u001b[0;32m--> 108\u001b[0m \u001b[38;5;28;01mreturn\u001b[39;00m \u001b[43mfunc\u001b[49m\u001b[43m(\u001b[49m\u001b[38;5;28;43mself\u001b[39;49m\u001b[43m,\u001b[49m\u001b[43m \u001b[49m\u001b[38;5;241;43m*\u001b[39;49m\u001b[43margs\u001b[49m\u001b[43m,\u001b[49m\u001b[43m \u001b[49m\u001b[38;5;241;43m*\u001b[39;49m\u001b[38;5;241;43m*\u001b[39;49m\u001b[43mkwargs\u001b[49m\u001b[43m)\u001b[49m\n",
      "File \u001b[0;32m~/mambaforge/envs/machine_env/lib/python3.10/site-packages/pymongo/collection.py:742\u001b[0m, in \u001b[0;36mCollection.insert_many\u001b[0;34m(self, documents, ordered, bypass_document_validation, session, comment)\u001b[0m\n\u001b[1;32m    740\u001b[0m blk \u001b[38;5;241m=\u001b[39m _Bulk(\u001b[38;5;28mself\u001b[39m, ordered, bypass_document_validation, comment\u001b[38;5;241m=\u001b[39mcomment)\n\u001b[1;32m    741\u001b[0m blk\u001b[38;5;241m.\u001b[39mops \u001b[38;5;241m=\u001b[39m \u001b[38;5;28mlist\u001b[39m(gen())\n\u001b[0;32m--> 742\u001b[0m \u001b[43mblk\u001b[49m\u001b[38;5;241;43m.\u001b[39;49m\u001b[43mexecute\u001b[49m\u001b[43m(\u001b[49m\u001b[43mwrite_concern\u001b[49m\u001b[43m,\u001b[49m\u001b[43m \u001b[49m\u001b[43msession\u001b[49m\u001b[43m,\u001b[49m\u001b[43m \u001b[49m\u001b[43m_Op\u001b[49m\u001b[38;5;241;43m.\u001b[39;49m\u001b[43mINSERT\u001b[49m\u001b[43m)\u001b[49m\n\u001b[1;32m    743\u001b[0m \u001b[38;5;28;01mreturn\u001b[39;00m InsertManyResult(inserted_ids, write_concern\u001b[38;5;241m.\u001b[39macknowledged)\n",
      "File \u001b[0;32m~/mambaforge/envs/machine_env/lib/python3.10/site-packages/pymongo/bulk.py:595\u001b[0m, in \u001b[0;36m_Bulk.execute\u001b[0;34m(self, write_concern, session, operation)\u001b[0m\n\u001b[1;32m    593\u001b[0m         \u001b[38;5;28;01mreturn\u001b[39;00m \u001b[38;5;28;01mNone\u001b[39;00m\n\u001b[1;32m    594\u001b[0m \u001b[38;5;28;01melse\u001b[39;00m:\n\u001b[0;32m--> 595\u001b[0m     \u001b[38;5;28;01mreturn\u001b[39;00m \u001b[38;5;28;43mself\u001b[39;49m\u001b[38;5;241;43m.\u001b[39;49m\u001b[43mexecute_command\u001b[49m\u001b[43m(\u001b[49m\u001b[43mgenerator\u001b[49m\u001b[43m,\u001b[49m\u001b[43m \u001b[49m\u001b[43mwrite_concern\u001b[49m\u001b[43m,\u001b[49m\u001b[43m \u001b[49m\u001b[43msession\u001b[49m\u001b[43m,\u001b[49m\u001b[43m \u001b[49m\u001b[43moperation\u001b[49m\u001b[43m)\u001b[49m\n",
      "File \u001b[0;32m~/mambaforge/envs/machine_env/lib/python3.10/site-packages/pymongo/bulk.py:462\u001b[0m, in \u001b[0;36m_Bulk.execute_command\u001b[0;34m(self, generator, write_concern, session, operation)\u001b[0m\n\u001b[1;32m    452\u001b[0m client\u001b[38;5;241m.\u001b[39m_retryable_write(\n\u001b[1;32m    453\u001b[0m     \u001b[38;5;28mself\u001b[39m\u001b[38;5;241m.\u001b[39mis_retryable,\n\u001b[1;32m    454\u001b[0m     retryable_bulk,\n\u001b[0;32m   (...)\u001b[0m\n\u001b[1;32m    458\u001b[0m     operation_id\u001b[38;5;241m=\u001b[39mop_id,\n\u001b[1;32m    459\u001b[0m )\n\u001b[1;32m    461\u001b[0m \u001b[38;5;28;01mif\u001b[39;00m full_result[\u001b[38;5;124m\"\u001b[39m\u001b[38;5;124mwriteErrors\u001b[39m\u001b[38;5;124m\"\u001b[39m] \u001b[38;5;129;01mor\u001b[39;00m full_result[\u001b[38;5;124m\"\u001b[39m\u001b[38;5;124mwriteConcernErrors\u001b[39m\u001b[38;5;124m\"\u001b[39m]:\n\u001b[0;32m--> 462\u001b[0m     \u001b[43m_raise_bulk_write_error\u001b[49m\u001b[43m(\u001b[49m\u001b[43mfull_result\u001b[49m\u001b[43m)\u001b[49m\n\u001b[1;32m    463\u001b[0m \u001b[38;5;28;01mreturn\u001b[39;00m full_result\n",
      "File \u001b[0;32m~/mambaforge/envs/machine_env/lib/python3.10/site-packages/pymongo/bulk.py:165\u001b[0m, in \u001b[0;36m_raise_bulk_write_error\u001b[0;34m(full_result)\u001b[0m\n\u001b[1;32m    159\u001b[0m         errmsg \u001b[38;5;241m=\u001b[39m (\n\u001b[1;32m    160\u001b[0m             \u001b[38;5;124m\"\u001b[39m\u001b[38;5;124mThis MongoDB deployment does not support \u001b[39m\u001b[38;5;124m\"\u001b[39m\n\u001b[1;32m    161\u001b[0m             \u001b[38;5;124m\"\u001b[39m\u001b[38;5;124mretryable writes. Please add retryWrites=false \u001b[39m\u001b[38;5;124m\"\u001b[39m\n\u001b[1;32m    162\u001b[0m             \u001b[38;5;124m\"\u001b[39m\u001b[38;5;124mto your connection string.\u001b[39m\u001b[38;5;124m\"\u001b[39m\n\u001b[1;32m    163\u001b[0m         )\n\u001b[1;32m    164\u001b[0m         \u001b[38;5;28;01mraise\u001b[39;00m OperationFailure(errmsg, code, full_result)\n\u001b[0;32m--> 165\u001b[0m \u001b[38;5;28;01mraise\u001b[39;00m BulkWriteError(full_result)\n",
      "\u001b[0;31mBulkWriteError\u001b[0m: batch op errors occurred, full error: {'writeErrors': [{'index': 0, 'code': 11000, 'errmsg': 'E11000 duplicate key error collection: scrapy-engine.urls-collection index: url_1 dup key: { url: \"https://www.pariwartankhabar.com/\" }', 'keyPattern': {'url': 1}, 'keyValue': {'url': 'https://www.pariwartankhabar.com/'}, 'op': {'url': 'https://www.pariwartankhabar.com/', 'timestamp': 1716703630.6513743, 'status': 'to_crawl', '_id': ObjectId('6652d18e6ced4b2145aaf2b7')}}], 'writeConcernErrors': [], 'nInserted': 0, 'nUpserted': 0, 'nMatched': 0, 'nModified': 0, 'nRemoved': 0, 'upserted': []}"
     ]
    }
   ],
   "source": [
    "# Populate initial Start Urls\n",
    "import time\n",
    "from mongo_db_handler import MongoDBHandler\n",
    "db_handler = MongoDBHandler(collection_name=\"scrapy-engine\", db_name=\"scrapy-engine\")\n",
    "\n",
    "start_urls = [\"https://onlinemajdoor.com/\", \"http://nepalipost.com/beta/\", \"https://nepalkhabar.com/\", \"https://www.nepalipaisa.com/\", \"https://topnepalnews.com/\",  \"https://www.dainiknepal.com/\", \"https://www.bbc.com/nepali\", \"https://deshsanchar.com/\"]\n",
    "\n",
    "db_handler.insert_many([{'url':url, 'timestamp':time.time(), 'status':'to_crawl'} for url in start_urls], collection_name='urls-collection')"
   ]
  },
  {
   "cell_type": "code",
   "execution_count": null,
   "metadata": {},
   "outputs": [],
   "source": [
    "# Add new start urls\n",
    "import time\n",
    "from mongo_db_handler import MongoDBHandler\n",
    "db_handler = MongoDBHandler(collection_name=\"scrapy-engine\", db_name=\"scrapy-engine\")\n",
    "new_start_urls = list(set([\"https://kantipurtv.com/\", \"https://www.janaboli.com/\", \"https://ekagaj.com/\", \"https://www.nepalviews.com/\", \"https://hib.gov.np/\", \"https://butwalmun.gov.np/\", \"https://swasthyakhabar.com/\", \"https://hetaudamun.gov.np/\", \"https://hr.parliament.gov.np/\", \"https://www.immigration.gov.np/\", \"https://pppc.bagamati.gov.np/newsandnotices\", \"http://mahakalimundarchula.gov.np/taxonomy/term/110\", \"https://www.dor.gov.np/home/news\", \"https://np.usembassy.gov/ne/\", \"https://lawcommission.gov.np/np/\", \"https://sabailamun.gov.np/ne/\", \"https://daokathmandu.moha.gov.np/\", \"https://barjumun.gov.np/\", \"https://na.parliament.gov.np/\", \"https://panchkhalmun.gov.np/ne/news-notices\", \"https://moics.gov.np/\", \"https://www.dor.gov.np/\"]))\n",
    "for url in new_start_urls:\n",
    "    try:\n",
    "        db_handler.insert_one({'url':url, 'timestamp':time.time(), 'status':'to_crawl'} , collection_name='urls-collection')\n",
    "    except Exception as ex:\n",
    "        print(ex)"
   ]
  },
  {
   "cell_type": "markdown",
   "metadata": {},
   "source": [
    "### Redis"
   ]
  },
  {
   "cell_type": "code",
   "execution_count": 5,
   "metadata": {},
   "outputs": [
    {
     "data": {
      "text/plain": [
       "[]"
      ]
     },
     "execution_count": 5,
     "metadata": {},
     "output_type": "execute_result"
    }
   ],
   "source": [
    "from dotenv import load_dotenv\n",
    "load_dotenv()\n",
    "\n",
    "import redis\n",
    "import os\n",
    "\n",
    "redis_client = redis.Redis(\n",
    "            host=os.environ.get('REDIS_HOST', 'localhost'),\n",
    "            port = int(os.environ.get('REDIS_PORT', 6379)),\n",
    "            password=os.environ.get('REDIS_PASSWORD', None),\n",
    "        )\n",
    "\n",
    "# delete all key-value pairs\n",
    "redis_client.flushall()\n",
    "\n",
    "# Get all keys from redis\n",
    "redis_client.keys()"
   ]
  },
  {
   "cell_type": "markdown",
   "metadata": {},
   "source": [
    "### CSV Files"
   ]
  },
  {
   "cell_type": "code",
   "execution_count": 6,
   "metadata": {},
   "outputs": [],
   "source": [
    "# Remove crawled_data.csv\n",
    "!rm crawled_data.csv\n",
    "\n",
    "# Remove other_data.csv\n",
    "!rm other_data.csv"
   ]
  },
  {
   "cell_type": "markdown",
   "metadata": {},
   "source": [
    "## Tasks\n",
    "* Continuously fetch data from redis\n",
    "* "
   ]
  },
  {
   "cell_type": "markdown",
   "metadata": {},
   "source": [
    "## Save Crawled Data"
   ]
  },
  {
   "cell_type": "code",
   "execution_count": null,
   "metadata": {},
   "outputs": [],
   "source": [
    "\n",
    "import csv\n",
    "import dotenv\n",
    "import json\n",
    "import os\n",
    "import redis\n",
    "import threading\n",
    "import time\n",
    "dotenv.load_dotenv()\n",
    "\n",
    "\n",
    "def pop_from_redis():\n",
    "    # print('call gari rako muji')\n",
    "    lists_to_pop = ['crawled_data', 'other_data']       # , 'crawled', 'to_crawl']\n",
    "    popped_data = {}\n",
    "    for list_name in lists_to_pop:\n",
    "        if list_name not in popped_data:\n",
    "            popped_data[list_name] = []\n",
    "        # print(f'list_name:{list_name}')\n",
    "        \n",
    "        # pop until the list is empty\n",
    "        while redis_client.llen(list_name) > 0:\n",
    "            # print(f'list_name:{list_name}')\n",
    "            popped_data[list_name].append(json.loads(redis_client.rpop(list_name)))\n",
    "    # print(\"return vayo muji\")\n",
    "    return popped_data\n",
    "\n",
    "    '''\n",
    "    e.g. format\n",
    "    {\n",
    "        'crawled_data': {\n",
    "\n",
    "        },\n",
    "        'other_data': {\n",
    "            \n",
    "        }\n",
    "    }\n",
    "    '''\n",
    "\n",
    "def push_to_redis(list_name, data):\n",
    "    redis_client.lpush(list_name, data)\n",
    "\n",
    "\n",
    "# Connect to your Redis server\n",
    "redis_client = redis.Redis(\n",
    "    host=os.environ.get('REDIS_HOST', 'localhost'),\n",
    "    port = int(os.environ.get('REDIS_PORT', 6379)),\n",
    "    password=os.environ.get('REDIS_PASSWORD', None),\n",
    ")\n",
    "\n",
    "\n",
    "\n",
    "def save_to_csv(data, data_type=\"crawled_data\"):\n",
    "    for key, data_items in data.items():\n",
    "        csv_file_path = key + \".csv\"\n",
    "        if data_items:\n",
    "            # field_names = ['paragraph', 'parent_url', 'page_title', 'is_nepali_confidence']\n",
    "            field_names = data_items[0].keys()\n",
    "            file_exists = os.path.exists(csv_file_path)\n",
    "            print(f'file_exists: {file_exists}')\n",
    "            # Open the CSV file in append mode\n",
    "            with open(csv_file_path, 'a', newline='', encoding='utf-8') as csvfile:\n",
    "                # Create a CSV writer object\n",
    "                csv_writer = csv.DictWriter(csvfile, fieldnames=field_names)\n",
    "\n",
    "                # If the file doesn't exist, write the header\n",
    "                if not file_exists:\n",
    "                    csv_writer.writeheader()\n",
    "\n",
    "                # Append the new data\n",
    "                csv_writer.writerows(data_items)\n",
    "\n",
    "def load_from_csv(csv_file_path=\"crawled_data.csv\"):\n",
    "    data = []\n",
    "    # Open the CSV file in read mode\n",
    "    with open(csv_file_path, 'r', encoding='utf-8') as csvfile:\n",
    "        # Create a CSV reader object\n",
    "        csv_reader = csv.DictReader(csvfile)\n",
    "\n",
    "        # Read and print each row of data\n",
    "        for row in csv_reader:\n",
    "            data.append(row)\n",
    "            # print(row)\n",
    "    return data\n",
    "\n",
    "def producer():\n",
    "    import random\n",
    "    print('producer')\n",
    "    data_paragraphs_copy = [{'paragraph': 'प्रदेश सरकार र निजी क्षेत्रको सहकार्यमा पहाडी तथा हिमाली क्षेत्रमा मनोरञ्जनात्मक तथा साहसिक पर्यटनको लागि हिलस्टेशनहरू विकास गर्न आवश्यक छ भन्दै उनले सांस्कृतिक, धार्मिक, साहसिक, कृषि, स्वास्थ्य तथा खेल पर्यटक आकर्षित गर्दै यस क्षेत्रको मौलिक संस्कृति संरक्षणमा महोत्सवले सहयोग गर्ने विश्वास व्यक्त गरे ।\\xa0', 'parent_url': 'https://hamrakura.com/news-details/161504/2023-12-27', 'page_title': 'लोकतन्त्रको आन्दोलन उठाउँदाकै आस्थाबाट निर्देशित छु – राष्ट्रपति पौडेल', 'is_nepali_confidence':'-1914.427728056908'},\n",
    "        {'paragraph': 'त्रिवेणी बाहेक अन्य पालिकाबाट कुन-कुन घर परिवारले रकम पाउने भन्ने विवरण नआइसकेकाले ती पालिकाका लागि रकम निकासा भने हुन सकेको छैन ।', 'parent_url': 'https://hamrakura.com/news-details/159820/2023-11-28', 'page_title': 'भूकम्पपीडितको अस्थायी आवासका लागि रकम निकासा', 'is_nepali_confidence':'-800.0689898729324'},\n",
    "        {'paragraph': 'निर्वाचित मण्डलले निर्वाचनका सबै प्रक्रिया अघि बढाएपनी सहमतिका लागि शीर्ष नेताहरूले समय मागेकाले निर्वाचन कमिटीले समय दिएको थियो । निर्वाचन कमिटीका संयोजक जगत बहादुर रोकायाले बताए ।','parent_url': 'https://hamrakura.com/news-details/160003/2023-12-01', 'page_title': 'अध्यक्ष मण्डलले घोषणा गरे जिल्ला कमिटी, टिके प्रथा चलाएको रावल पक्षको आरोप', 'is_nepali_confidence':'-1128.5258438587189'},\n",
    "        {'paragraph': 'अहिलेसम्म एनसेलले शेयर किनबेच गरेको सम्बन्धमा नेपाल दूरसञ्चार प्राधिकरणले गरेको काम कारबाहीको सम्बन्धमा जानकारी माग्ने पत्र लेख्ने', 'parent_url':'https://hamrakura.com/news-details/161068/2023-12-19', 'page_title': 'एनसेलले राज्यलाई तिर्नुपर्ने कर असुल उपर गर्न सरकारलाई समितिको निर्देशन [भिडियो]', 'is_nepali_confidence':'-800.2218471765518'}\n",
    "        ]\n",
    "    while True:\n",
    "        # add n items to the list\n",
    "        n_items = random.randint(0, 3)\n",
    "        data_paragraphs.extend(data_paragraphs_copy[:n_items])\n",
    "        print(f'produced: {n_items}')\n",
    "\n",
    "        # sleep randomly between 0 and 5 seconds\n",
    "        time.sleep(random.randint(0, 5))\n",
    "\n",
    "def publisher():\n",
    "    print('published')\n",
    "    while True:\n",
    "        \n",
    "        if data_paragraphs:\n",
    "            pushed = 0\n",
    "            for paragraph in data_paragraphs:\n",
    "                push_to_redis('crawled_data', json.dumps(data_paragraphs.pop()))\n",
    "                pushed += 1\n",
    "            print(f'---published: {pushed}---')\n",
    "        else:\n",
    "            time.sleep(5)  # sleep for a while before producing more items\n",
    "        # time.sleep(1)  # sleep for a while before producing more items\n",
    "\n",
    "def consumer():\n",
    "    print('consumer')\n",
    "    pulled = 0\n",
    "    while True:\n",
    "        # print('consumer')\n",
    "        paragraphs = pop_from_redis()\n",
    "        \n",
    "        if paragraphs:\n",
    "            save_to_csv(paragraphs)\n",
    "            pulled += len(paragraphs)\n",
    "            print(f'======consumed: {len(paragraphs)}')     #\\n\\n current_count:{redis_client.llen(\"paragraphs\")}')\n",
    "            # print(f'len(paragraphs): {len(paragraphs)} \\n\\n paragraphs:{paragraphs}')\n",
    "        else:\n",
    "            print('------------------')   # No Data\n",
    "            time.sleep(1)  # sleep for a while before consuming more items\n",
    "\n",
    "data_paragraphs = []\n",
    "\n",
    "# # Create producer and consumer threads\n",
    "# producer_thread = threading.Thread(target=producer)\n",
    "# publisher_thread = threading.Thread(target=publisher)\n",
    "# consumer_thread = threading.Thread(target=consumer)\n",
    "\n",
    "\n",
    "# # Start the threads\n",
    "# producer_thread.start()\n",
    "# # consumer_thread.start()\n",
    "# publisher_thread.start()\n",
    "\n",
    "# # Wait for both threads to finish\n",
    "# producer_thread.join()\n",
    "# publisher_thread.join()\n",
    "# # consumer_thread.join()\n"
   ]
  },
  {
   "cell_type": "markdown",
   "metadata": {},
   "source": [
    "### One time operation"
   ]
  },
  {
   "cell_type": "code",
   "execution_count": 5,
   "metadata": {},
   "outputs": [],
   "source": [
    "# Populate initial Start Urls\n",
    "import time\n",
    "from mongo_db_handler import MongoDBHandler\n",
    "db_handler = MongoDBHandler(collection_name=\"scrapy-engine\", db_name=\"scrapy-engine\")\n",
    "\n",
    "start_urls = [\"https://onlinemajdoor.com/\", \"http://nepalipost.com/beta/\", \"https://nepalkhabar.com/\", \"https://www.nepalipaisa.com/\", \"https://topnepalnews.com/\",  \"https://www.dainiknepal.com/\", \"https://www.bbc.com/nepali\"]\n",
    "\n",
    "db_handler.insert_many([{'url':url, 'timestamp':time.time(), 'status':'to_crawl'} for url in start_urls], collection_name='urls-collection')"
   ]
  },
  {
   "cell_type": "code",
   "execution_count": null,
   "metadata": {},
   "outputs": [],
   "source": [
    "# Indexing by url\n",
    "mongo = Mongo()\n",
    "\n",
    "collection_names = ['url_crawled', 'url_to_crawl', 'url_crawling']\n",
    "for collection_name in collection_names:\n",
    "    mongo.db_handler.delete_all(collection_name=collection_name)\n",
    "    mongo.db_handler.db[collection_name].create_index('url', unique=True)"
   ]
  },
  {
   "cell_type": "code",
   "execution_count": 8,
   "metadata": {},
   "outputs": [],
   "source": [
    "# Convert all urls with status: crawled -> to_crawl\n",
    "\n",
    "from mongo import Mongo\n",
    "db=Mongo()\n",
    "db.recover_expired_crawling(0)"
   ]
  },
  {
   "cell_type": "code",
   "execution_count": 9,
   "metadata": {},
   "outputs": [
    {
     "data": {
      "text/plain": [
       "'url_1'"
      ]
     },
     "execution_count": 9,
     "metadata": {},
     "output_type": "execute_result"
    }
   ],
   "source": [
    "# Create index for unique url\n",
    "db.collection.create_index('url', unique=True)"
   ]
  },
  {
   "cell_type": "code",
   "execution_count": null,
   "metadata": {},
   "outputs": [],
   "source": [
    "# print all urls with status to_crawl\n",
    "print(list(db.collection.find({'status':'to_crawl'})))"
   ]
  },
  {
   "cell_type": "code",
   "execution_count": null,
   "metadata": {},
   "outputs": [],
   "source": [
    "## Delete all (does-not require re-indexing)\n",
    "db.collection.delete_many({})"
   ]
  },
  {
   "cell_type": "code",
   "execution_count": null,
   "metadata": {},
   "outputs": [],
   "source": [
    "# Display all entries\n",
    "list(db.collection.find())"
   ]
  },
  {
   "cell_type": "markdown",
   "metadata": {},
   "source": [
    "### Error Data"
   ]
  },
  {
   "cell_type": "code",
   "execution_count": null,
   "metadata": {},
   "outputs": [],
   "source": [
    "# Append error mannually\n",
    "from mongo import Mongo\n",
    "db = Mongo()\n",
    "error_data = {'url': 'https://nepalkhabar.com/', 'timestamp': 1714993152.5575845, 'status': 'error', 'status_code': 403, 'error_type': 'HttpError'}\n",
    "db.append_error_data(error_data)"
   ]
  },
  {
   "cell_type": "code",
   "execution_count": null,
   "metadata": {},
   "outputs": [],
   "source": [
    "# Get urls with status: error\n",
    "list(db.collection.find({'status':'error'}))"
   ]
  },
  {
   "cell_type": "markdown",
   "metadata": {},
   "source": [
    "### Upload/Download crawled_data from mongo"
   ]
  },
  {
   "cell_type": "code",
   "execution_count": 4,
   "metadata": {},
   "outputs": [],
   "source": [
    "paragraph_data = {'paragraph': 'प्रदेश सरकार र निजी क्षेत्रको सहकार्यमा पहाडी तथा हिमाली क्षेत्रमा मनोरञ्जनात्मक तथा साहसिक पर्यटनको लागि हिलस्टेशनहरू विकास गर्न आवश्यक छ भन्दै उनले सांस्कृतिक, धार्मिक, साहसिक, कृषि, स्वास्थ्य तथा खेल पर्यटक आकर्षित गर्दै यस क्षेत्रको मौलिक संस्कृति संरक्षणमा महोत्सवले सहयोग गर्ने विश्वास व्यक्त गरे ।\\xa0', 'parent_url': 'https1://hamrakura.com/news-details/161504/2023-12-27', 'page_title': 'लोकतन्त्रको आन्दोलन उठाउँदाकै आस्थाबाट निर्देशित छु – राष्ट्रपति पौडेल', 'is_nepali_confidence':'-1914.427728056908'}\n",
    "from mongo import Mongo\n",
    "mongo = Mongo()\n",
    "\n",
    "# Create index for unique url\n",
    "# mongo.db['crawled_data'].create_index('parent_url', unique=True)\n",
    "# mongo.db['other_data'].create_index('parent_url', unique=True)\n",
    "\n",
    "# mongo.db['crawled_data'].drop_index('parent_url_1')\n",
    "# mongo.db['other_data'].drop_index('parent_url_1')"
   ]
  },
  {
   "cell_type": "code",
   "execution_count": 36,
   "metadata": {},
   "outputs": [
    {
     "data": {
      "text/plain": [
       "DeleteResult({'n': 0, 'electionId': ObjectId('7fffffff0000000000000401'), 'opTime': {'ts': Timestamp(1715141605, 5), 't': 1025}, 'ok': 1.0, '$clusterTime': {'clusterTime': Timestamp(1715141605, 8), 'signature': {'hash': b'>[\\xfcSb\\xb3\\xb6\"\\xc0\\xd8 \\x830\"\\xe3\\x9f\\xf2\\x87\\xf3\\xf4', 'keyId': 7318892626235621378}}, 'operationTime': Timestamp(1715141605, 5)}, acknowledged=True)"
      ]
     },
     "execution_count": 36,
     "metadata": {},
     "output_type": "execute_result"
    }
   ],
   "source": [
    "# mongo.db['crawled_data'].delete_many({})\n",
    "# mongo.db['other_data'].delete_many({})"
   ]
  },
  {
   "cell_type": "code",
   "execution_count": 87,
   "metadata": {},
   "outputs": [
    {
     "data": {
      "text/plain": [
       "{'crawled_data': [{'_id': ObjectId('663b079024073125d38e9547'),\n",
       "   'paragraph': 'test',\n",
       "   'parent_url': 'https://hamrakura.com/news-details/161504/2023-12-27',\n",
       "   'page_title': 'लोकतन्त्रको आन्दोलन उठाउँदाकै आस्थाबाट निर्देशित छु – राष्ट्रपति पौडेल',\n",
       "   'is_nepali_confidence': '-1914.427728056908'}],\n",
       " 'other_data': [{'_id': ObjectId('663b079024073125d38e9548'),\n",
       "   'paragraph': 'test',\n",
       "   'parent_url': 'some_url'}]}"
      ]
     },
     "execution_count": 87,
     "metadata": {},
     "output_type": "execute_result"
    }
   ],
   "source": [
    "# Insert the data (Done by scrapy)\n",
    "try:\n",
    "    paragraph_data = {'paragraph': 'test', 'parent_url': 'https://hamrakura.com/news-details/161504/2023-12-27', 'page_title': 'लोकतन्त्रको आन्दोलन उठाउँदाकै आस्थाबाट निर्देशित छु – राष्ट्रपति पौडेल', 'is_nepali_confidence':'-1914.427728056908'}\n",
    "    mongo.db['crawled_data'].insert_one(paragraph_data)\n",
    "except Exception as e:\n",
    "    print(e)\n",
    "try:\n",
    "    mongo.db['other_data'].insert_one({'paragraph':'test', 'parent_url':'some_url'})\n",
    "except Exception as ex:\n",
    "    pass\n",
    "\n",
    "# Find all the data\n",
    "crawled_data = list(mongo.db['crawled_data'].find())\n",
    "other_data = list(mongo.db['other_data'].find())\n",
    "combined_data = {\"crawled_data\":crawled_data, \"other_data\":other_data}\n",
    "combined_data"
   ]
  },
  {
   "cell_type": "code",
   "execution_count": 88,
   "metadata": {},
   "outputs": [
    {
     "name": "stdout",
     "output_type": "stream",
     "text": [
      "file_exists: False\n",
      "file_exists: False\n"
     ]
    },
    {
     "data": {
      "text/plain": [
       "DeleteResult({'n': 1, 'electionId': ObjectId('7fffffff0000000000000401'), 'opTime': {'ts': Timestamp(1715144594, 1), 't': 1025}, 'ok': 1.0, '$clusterTime': {'clusterTime': Timestamp(1715144594, 1), 'signature': {'hash': b'f\\xa32WG\\xb6\\x187\\xe2\\xd3\\xa8v\\xab\\xb7\\xb0!\\x94\\xaf\\x11\\xf3', 'keyId': 7318892626235621378}}, 'operationTime': Timestamp(1715144594, 1)}, acknowledged=True)"
      ]
     },
     "execution_count": 88,
     "metadata": {},
     "output_type": "execute_result"
    }
   ],
   "source": [
    "crawled_data = list(mongo.db['crawled_data'].find())\n",
    "other_data = list(mongo.db['other_data'].find())\n",
    "combined_data = {\"crawled_data\":crawled_data, \"other_data\":other_data}\n",
    "combined_data\n",
    "# Save to .csv file\n",
    "save_to_csv(combined_data)\n",
    "\n",
    "# Delete multiple data by id\n",
    "mongo.db['crawled_data'].delete_many({\"_id\": {\"$in\": [data['_id'] for data in crawled_data]} })\n",
    "mongo.db['other_data'].delete_many({\"_id\": {\"$in\": [data_ot['_id'] for data_ot in other_data]} })\n"
   ]
  },
  {
   "cell_type": "code",
   "execution_count": 83,
   "metadata": {},
   "outputs": [
    {
     "data": {
      "text/plain": [
       "DeleteResult({'n': 0, 'electionId': ObjectId('7fffffff0000000000000401'), 'opTime': {'ts': Timestamp(1715144489, 19), 't': 1025}, 'ok': 1.0, '$clusterTime': {'clusterTime': Timestamp(1715144489, 20), 'signature': {'hash': b'\\xcf\\x0f;\\x0cj\\x95w\\xa7\\x9b\\x96ZA\\xcew\\xdfBI\\x01\\xfa:', 'keyId': 7318892626235621378}}, 'operationTime': Timestamp(1715144489, 19)}, acknowledged=True)"
      ]
     },
     "execution_count": 83,
     "metadata": {},
     "output_type": "execute_result"
    }
   ],
   "source": [
    "collection.delete_many({\"_id\": {\"$in\": [\"663b070124073125d38e9543\", \"663b05c524073125d38e953d\"]} })"
   ]
  },
  {
   "cell_type": "code",
   "execution_count": 89,
   "metadata": {},
   "outputs": [
    {
     "data": {
      "text/plain": [
       "{'crawled_data': [], 'other_data': []}"
      ]
     },
     "execution_count": 89,
     "metadata": {},
     "output_type": "execute_result"
    }
   ],
   "source": [
    "# Get crawled_data\n",
    "crawled_data = list(mongo.db['crawled_data'].find())\n",
    "other_data = list(mongo.db['other_data'].find())\n",
    "combined_data = {\"crawled_data\":crawled_data, \"other_data\":other_data}\n",
    "combined_data"
   ]
  },
  {
   "cell_type": "code",
   "execution_count": 60,
   "metadata": {},
   "outputs": [
    {
     "name": "stdout",
     "output_type": "stream",
     "text": [
      "file_exists: True\n"
     ]
    }
   ],
   "source": [
    "import os, csv\n",
    "def save_to_csv(data, data_type=\"crawled_data\"):\n",
    "        for key, data_items in data.items():\n",
    "            csv_file_path = key + \".csv\"\n",
    "            if data_items:\n",
    "                # field_names = ['paragraph', 'parent_url', 'page_title', 'is_nepali_confidence']\n",
    "                field_names = data_items[0].keys()\n",
    "                file_exists = os.path.exists(csv_file_path)\n",
    "                print(f'file_exists: {file_exists}')\n",
    "                # Open the CSV file in append mode\n",
    "                with open(csv_file_path, 'a', newline='', encoding='utf-8') as csvfile:\n",
    "                    # Create a CSV writer object\n",
    "                    csv_writer = csv.DictWriter(csvfile, fieldnames=field_names)\n",
    "\n",
    "                    # If the file doesn't exist, write the header\n",
    "                    if not file_exists:\n",
    "                        csv_writer.writeheader()\n",
    "\n",
    "                    # Append the new data\n",
    "                    csv_writer.writerows(data_items)\n",
    "\n"
   ]
  },
  {
   "cell_type": "code",
   "execution_count": null,
   "metadata": {},
   "outputs": [],
   "source": [
    "# get all to_crawl_urls\n",
    "from mongo import Mongo\n",
    "db=Mongo()\n",
    "# fetch to crawl urls only\n",
    "to_crawl_urls_only = db.collection.find({\"status\": \"to_crawl\"})\n",
    "\n",
    "# # Get 100 to_crawl urls\n",
    "# to_crawl_one_hundred = list(db.collection.find({\"status\": \"to_crawl\"}).limit(100))\n",
    "\n",
    "urls_only = [url['url'] for url in to_crawl]\n",
    "import json\n",
    "with open(\"to_crawl_urls.json\", 'w') as f:\n",
    "    json.dump(list(urls_only), f)\n"
   ]
  },
  {
   "cell_type": "markdown",
   "metadata": {},
   "source": [
    "### display_stats"
   ]
  },
  {
   "cell_type": "code",
   "execution_count": 5,
   "metadata": {},
   "outputs": [
    {
     "name": "stdout",
     "output_type": "stream",
     "text": [
      "0\n",
      "0\n"
     ]
    },
    {
     "data": {
      "text/plain": [
       "{'_id': ObjectId('6654d9138ffe4a7bb4beb160'),\n",
       " 'url': 'http://nepalipost.com/beta',\n",
       " 'status': 'to_crawl',\n",
       " 'timestamp': '1714996990.47649'}"
      ]
     },
     "execution_count": 5,
     "metadata": {},
     "output_type": "execute_result"
    }
   ],
   "source": [
    "from mongo import Mongo\n",
    "mongo=Mongo()\n",
    "\n",
    "# Get \"to_crawl?\" count\n",
    "to_crawl_by_spider_count  = mongo.collection.count_documents({\"status\": \"to_crawl?\"})\n",
    "crawled_data_count = mongo.collection.count_documents({\"status\": \"crawled_data\"})\n",
    "other_data_count = mongo.collection.count_documents({\"status\": \"other_data\"})\n",
    "print(crawled_data_count)\n",
    "print(other_data_count)\n",
    "\n",
    "# Check if this url exists in tu_crawl\n",
    "url='http://nepalipost.com/beta'\n",
    "mongo.collection.find_one({\"url\": url, \"status\": \"to_crawl\"})"
   ]
  }
 ],
 "metadata": {
  "kernelspec": {
   "display_name": "ioe_env",
   "language": "python",
   "name": "python3"
  },
  "language_info": {
   "codemirror_mode": {
    "name": "ipython",
    "version": 3
   },
   "file_extension": ".py",
   "mimetype": "text/x-python",
   "name": "python",
   "nbconvert_exporter": "python",
   "pygments_lexer": "ipython3",
   "version": "3.10.12"
  }
 },
 "nbformat": 4,
 "nbformat_minor": 2
}
