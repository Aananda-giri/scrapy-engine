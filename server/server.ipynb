{
 "cells": [
  {
   "cell_type": "markdown",
   "metadata": {},
   "source": [
    "# Re-initialize Database\n",
    "* note:It will delete everything in MongoDb, Redis and .csv files"
   ]
  },
  {
   "cell_type": "markdown",
   "metadata": {},
   "source": [
    "### Mongo"
   ]
  },
  {
   "cell_type": "code",
   "execution_count": null,
   "metadata": {},
   "outputs": [],
   "source": [
    "# Convert all urls with status: crawled -> to_crawl\n",
    "\n",
    "from mongo import Mongo\n",
    "db=Mongo()\n",
    "db.recover_expired_crawling(0)"
   ]
  },
  {
   "cell_type": "code",
   "execution_count": null,
   "metadata": {},
   "outputs": [],
   "source": [
    "## Delete all (does-not require re-indexing)\n",
    "db.collection.delete_many({})"
   ]
  },
  {
   "cell_type": "code",
   "execution_count": null,
   "metadata": {},
   "outputs": [],
   "source": [
    "# Create index for unique url\n",
    "db.collection.create_index('url', unique=True)"
   ]
  },
  {
   "cell_type": "code",
   "execution_count": null,
   "metadata": {},
   "outputs": [],
   "source": [
    "# Populate initial Start Urls\n",
    "import time\n",
    "from mongo_db_handler import MongoDBHandler\n",
    "db_handler = MongoDBHandler(collection_name=\"scrapy-engine\", db_name=\"scrapy-engine\")\n",
    "\n",
    "start_urls = [\"https://onlinemajdoor.com/\", \"http://nepalipost.com/beta/\", \"https://nepalkhabar.com/\", \"https://www.nepalipaisa.com/\", \"https://topnepalnews.com/\",  \"https://www.dainiknepal.com/\", \"https://www.bbc.com/nepali\"]\n",
    "\n",
    "db_handler.insert_many([{'url':url, 'timestamp':time.time(), 'status':'to_crawl'} for url in start_urls], collection_name='urls-collection')"
   ]
  },
  {
   "cell_type": "markdown",
   "metadata": {},
   "source": [
    "### Redis"
   ]
  },
  {
   "cell_type": "code",
   "execution_count": 2,
   "metadata": {},
   "outputs": [
    {
     "data": {
      "text/plain": [
       "[]"
      ]
     },
     "execution_count": 2,
     "metadata": {},
     "output_type": "execute_result"
    }
   ],
   "source": [
    "from dotenv import load_dotenv\n",
    "load_dotenv()\n",
    "\n",
    "import redis\n",
    "import os\n",
    "\n",
    "redis_client = redis.Redis(\n",
    "            host=os.environ.get('REDIS_HOST', 'localhost'),\n",
    "            port = int(os.environ.get('REDIS_PORT', 6379)),\n",
    "            password=os.environ.get('REDIS_PASSWORD', None),\n",
    "        )\n",
    "\n",
    "# delete all key-value pairs\n",
    "redis_client.flushall()\n",
    "\n",
    "# Get all keys from redis\n",
    "redis_client.keys()"
   ]
  },
  {
   "cell_type": "markdown",
   "metadata": {},
   "source": [
    "### CSV Files"
   ]
  },
  {
   "cell_type": "code",
   "execution_count": 13,
   "metadata": {},
   "outputs": [
    {
     "name": "stdout",
     "output_type": "stream",
     "text": [
      "rm: cannot remove 'crawled_data.csv': No such file or directory\n"
     ]
    }
   ],
   "source": [
    "# Remove crawled_data.csv\n",
    "!rm crawled_data.csv\n",
    "\n",
    "# Remove other_data.csv\n",
    "!rm other_data.csv"
   ]
  },
  {
   "cell_type": "markdown",
   "metadata": {},
   "source": [
    "## Tasks\n",
    "* Continuously fetch data from redis\n",
    "* "
   ]
  },
  {
   "cell_type": "markdown",
   "metadata": {},
   "source": [
    "## Save Crawled Data"
   ]
  },
  {
   "cell_type": "code",
   "execution_count": null,
   "metadata": {},
   "outputs": [],
   "source": [
    "\n",
    "import csv\n",
    "import dotenv\n",
    "import json\n",
    "import os\n",
    "import redis\n",
    "import threading\n",
    "import time\n",
    "dotenv.load_dotenv()\n",
    "\n",
    "\n",
    "def pop_from_redis():\n",
    "    # print('call gari rako muji')\n",
    "    lists_to_pop = ['crawled_data', 'other_data']       # , 'crawled', 'to_crawl']\n",
    "    popped_data = {}\n",
    "    for list_name in lists_to_pop:\n",
    "        if list_name not in popped_data:\n",
    "            popped_data[list_name] = []\n",
    "        # print(f'list_name:{list_name}')\n",
    "        \n",
    "        # pop until the list is empty\n",
    "        while redis_client.llen(list_name) > 0:\n",
    "            # print(f'list_name:{list_name}')\n",
    "            popped_data[list_name].append(json.loads(redis_client.rpop(list_name)))\n",
    "    # print(\"return vayo muji\")\n",
    "    return popped_data\n",
    "\n",
    "    '''\n",
    "    e.g. format\n",
    "    {\n",
    "        'crawled_data': {\n",
    "\n",
    "        },\n",
    "        'other_data': {\n",
    "            \n",
    "        }\n",
    "    }\n",
    "    '''\n",
    "\n",
    "def push_to_redis(list_name, data):\n",
    "    redis_client.lpush(list_name, data)\n",
    "\n",
    "\n",
    "# Connect to your Redis server\n",
    "redis_client = redis.Redis(\n",
    "    host=os.environ.get('REDIS_HOST', 'localhost'),\n",
    "    port = int(os.environ.get('REDIS_PORT', 6379)),\n",
    "    password=os.environ.get('REDIS_PASSWORD', None),\n",
    ")\n",
    "\n",
    "\n",
    "\n",
    "def save_to_csv(data, data_type=\"crawled_data\"):\n",
    "    for key, data_items in data.items():\n",
    "        csv_file_path = key + \".csv\"\n",
    "        if data_items:\n",
    "            # field_names = ['paragraph', 'parent_url', 'page_title', 'is_nepali_confidence']\n",
    "            field_names = data_items[0].keys()\n",
    "            file_exists = os.path.exists(csv_file_path)\n",
    "            print(f'file_exists: {file_exists}')\n",
    "            # Open the CSV file in append mode\n",
    "            with open(csv_file_path, 'a', newline='', encoding='utf-8') as csvfile:\n",
    "                # Create a CSV writer object\n",
    "                csv_writer = csv.DictWriter(csvfile, fieldnames=field_names)\n",
    "\n",
    "                # If the file doesn't exist, write the header\n",
    "                if not file_exists:\n",
    "                    csv_writer.writeheader()\n",
    "\n",
    "                # Append the new data\n",
    "                csv_writer.writerows(data_items)\n",
    "\n",
    "def load_from_csv(csv_file_path=\"crawled_data.csv\"):\n",
    "    data = []\n",
    "    # Open the CSV file in read mode\n",
    "    with open(csv_file_path, 'r', encoding='utf-8') as csvfile:\n",
    "        # Create a CSV reader object\n",
    "        csv_reader = csv.DictReader(csvfile)\n",
    "\n",
    "        # Read and print each row of data\n",
    "        for row in csv_reader:\n",
    "            data.append(row)\n",
    "            # print(row)\n",
    "    return data\n",
    "\n",
    "def producer():\n",
    "    import random\n",
    "    print('producer')\n",
    "    data_paragraphs_copy = [{'paragraph': 'प्रदेश सरकार र निजी क्षेत्रको सहकार्यमा पहाडी तथा हिमाली क्षेत्रमा मनोरञ्जनात्मक तथा साहसिक पर्यटनको लागि हिलस्टेशनहरू विकास गर्न आवश्यक छ भन्दै उनले सांस्कृतिक, धार्मिक, साहसिक, कृषि, स्वास्थ्य तथा खेल पर्यटक आकर्षित गर्दै यस क्षेत्रको मौलिक संस्कृति संरक्षणमा महोत्सवले सहयोग गर्ने विश्वास व्यक्त गरे ।\\xa0', 'parent_url': 'https://hamrakura.com/news-details/161504/2023-12-27', 'page_title': 'लोकतन्त्रको आन्दोलन उठाउँदाकै आस्थाबाट निर्देशित छु – राष्ट्रपति पौडेल', 'is_nepali_confidence':'-1914.427728056908'},\n",
    "        {'paragraph': 'त्रिवेणी बाहेक अन्य पालिकाबाट कुन-कुन घर परिवारले रकम पाउने भन्ने विवरण नआइसकेकाले ती पालिकाका लागि रकम निकासा भने हुन सकेको छैन ।', 'parent_url': 'https://hamrakura.com/news-details/159820/2023-11-28', 'page_title': 'भूकम्पपीडितको अस्थायी आवासका लागि रकम निकासा', 'is_nepali_confidence':'-800.0689898729324'},\n",
    "        {'paragraph': 'निर्वाचित मण्डलले निर्वाचनका सबै प्रक्रिया अघि बढाएपनी सहमतिका लागि शीर्ष नेताहरूले समय मागेकाले निर्वाचन कमिटीले समय दिएको थियो । निर्वाचन कमिटीका संयोजक जगत बहादुर रोकायाले बताए ।','parent_url': 'https://hamrakura.com/news-details/160003/2023-12-01', 'page_title': 'अध्यक्ष मण्डलले घोषणा गरे जिल्ला कमिटी, टिके प्रथा चलाएको रावल पक्षको आरोप', 'is_nepali_confidence':'-1128.5258438587189'},\n",
    "        {'paragraph': 'अहिलेसम्म एनसेलले शेयर किनबेच गरेको सम्बन्धमा नेपाल दूरसञ्चार प्राधिकरणले गरेको काम कारबाहीको सम्बन्धमा जानकारी माग्ने पत्र लेख्ने', 'parent_url':'https://hamrakura.com/news-details/161068/2023-12-19', 'page_title': 'एनसेलले राज्यलाई तिर्नुपर्ने कर असुल उपर गर्न सरकारलाई समितिको निर्देशन [भिडियो]', 'is_nepali_confidence':'-800.2218471765518'}\n",
    "        ]\n",
    "    while True:\n",
    "        # add n items to the list\n",
    "        n_items = random.randint(0, 3)\n",
    "        data_paragraphs.extend(data_paragraphs_copy[:n_items])\n",
    "        print(f'produced: {n_items}')\n",
    "\n",
    "        # sleep randomly between 0 and 5 seconds\n",
    "        time.sleep(random.randint(0, 5))\n",
    "\n",
    "def publisher():\n",
    "    print('published')\n",
    "    while True:\n",
    "        \n",
    "        if data_paragraphs:\n",
    "            pushed = 0\n",
    "            for paragraph in data_paragraphs:\n",
    "                push_to_redis('crawled_data', json.dumps(data_paragraphs.pop()))\n",
    "                pushed += 1\n",
    "            print(f'---published: {pushed}---')\n",
    "        else:\n",
    "            time.sleep(5)  # sleep for a while before producing more items\n",
    "        # time.sleep(1)  # sleep for a while before producing more items\n",
    "\n",
    "def consumer():\n",
    "    print('consumer')\n",
    "    pulled = 0\n",
    "    while True:\n",
    "        # print('consumer')\n",
    "        paragraphs = pop_from_redis()\n",
    "        \n",
    "        if paragraphs:\n",
    "            save_to_csv(paragraphs)\n",
    "            pulled += len(paragraphs)\n",
    "            print(f'======consumed: {len(paragraphs)}')     #\\n\\n current_count:{redis_client.llen(\"paragraphs\")}')\n",
    "            # print(f'len(paragraphs): {len(paragraphs)} \\n\\n paragraphs:{paragraphs}')\n",
    "        else:\n",
    "            print('------------------')   # No Data\n",
    "            time.sleep(1)  # sleep for a while before consuming more items\n",
    "\n",
    "data_paragraphs = []\n",
    "\n",
    "# # Create producer and consumer threads\n",
    "# producer_thread = threading.Thread(target=producer)\n",
    "# publisher_thread = threading.Thread(target=publisher)\n",
    "# consumer_thread = threading.Thread(target=consumer)\n",
    "\n",
    "\n",
    "# # Start the threads\n",
    "# producer_thread.start()\n",
    "# # consumer_thread.start()\n",
    "# publisher_thread.start()\n",
    "\n",
    "# # Wait for both threads to finish\n",
    "# producer_thread.join()\n",
    "# publisher_thread.join()\n",
    "# # consumer_thread.join()\n"
   ]
  },
  {
   "cell_type": "markdown",
   "metadata": {},
   "source": [
    "### One time operation"
   ]
  },
  {
   "cell_type": "code",
   "execution_count": 5,
   "metadata": {},
   "outputs": [],
   "source": [
    "# Populate initial Start Urls\n",
    "import time\n",
    "from mongo_db_handler import MongoDBHandler\n",
    "db_handler = MongoDBHandler(collection_name=\"scrapy-engine\", db_name=\"scrapy-engine\")\n",
    "\n",
    "start_urls = [\"https://onlinemajdoor.com/\", \"http://nepalipost.com/beta/\", \"https://nepalkhabar.com/\", \"https://www.nepalipaisa.com/\", \"https://topnepalnews.com/\",  \"https://www.dainiknepal.com/\", \"https://www.bbc.com/nepali\"]\n",
    "\n",
    "db_handler.insert_many([{'url':url, 'timestamp':time.time(), 'status':'to_crawl'} for url in start_urls], collection_name='urls-collection')"
   ]
  },
  {
   "cell_type": "code",
   "execution_count": null,
   "metadata": {},
   "outputs": [],
   "source": [
    "# Indexing by url\n",
    "mongo = Mongo()\n",
    "\n",
    "collection_names = ['url_crawled', 'url_to_crawl', 'url_crawling']\n",
    "for collection_name in collection_names:\n",
    "    mongo.db_handler.delete_all(collection_name=collection_name)\n",
    "    mongo.db_handler.db[collection_name].create_index('url', unique=True)"
   ]
  },
  {
   "cell_type": "code",
   "execution_count": 8,
   "metadata": {},
   "outputs": [],
   "source": [
    "# Convert all urls with status: crawled -> to_crawl\n",
    "\n",
    "from mongo import Mongo\n",
    "db=Mongo()\n",
    "db.recover_expired_crawling(0)"
   ]
  },
  {
   "cell_type": "code",
   "execution_count": 9,
   "metadata": {},
   "outputs": [
    {
     "data": {
      "text/plain": [
       "'url_1'"
      ]
     },
     "execution_count": 9,
     "metadata": {},
     "output_type": "execute_result"
    }
   ],
   "source": [
    "# Create index for unique url\n",
    "db.collection.create_index('url', unique=True)"
   ]
  },
  {
   "cell_type": "code",
   "execution_count": null,
   "metadata": {},
   "outputs": [],
   "source": [
    "# print all urls with status to_crawl\n",
    "print(list(db.collection.find({'status':'to_crawl'})))"
   ]
  },
  {
   "cell_type": "code",
   "execution_count": null,
   "metadata": {},
   "outputs": [],
   "source": [
    "## Delete all (does-not require re-indexing)\n",
    "db.collection.delete_many({})"
   ]
  },
  {
   "cell_type": "code",
   "execution_count": null,
   "metadata": {},
   "outputs": [],
   "source": [
    "# Display all entries\n",
    "list(db.collection.find())"
   ]
  },
  {
   "cell_type": "markdown",
   "metadata": {},
   "source": [
    "### Error Data"
   ]
  },
  {
   "cell_type": "code",
   "execution_count": null,
   "metadata": {},
   "outputs": [],
   "source": [
    "# Append error mannually\n",
    "from mongo import Mongo\n",
    "db = Mongo()\n",
    "error_data = {'url': 'https://nepalkhabar.com/', 'timestamp': 1714993152.5575845, 'status': 'error', 'status_code': 403, 'error_type': 'HttpError'}\n",
    "db.append_error_data(error_data)"
   ]
  },
  {
   "cell_type": "code",
   "execution_count": null,
   "metadata": {},
   "outputs": [],
   "source": [
    "# Get urls with status: error\n",
    "list(db.collection.find({'status':'error'}))"
   ]
  }
 ],
 "metadata": {
  "kernelspec": {
   "display_name": "ioe_env",
   "language": "python",
   "name": "python3"
  },
  "language_info": {
   "codemirror_mode": {
    "name": "ipython",
    "version": 3
   },
   "file_extension": ".py",
   "mimetype": "text/x-python",
   "name": "python",
   "nbconvert_exporter": "python",
   "pygments_lexer": "ipython3",
   "version": "3.11.8"
  }
 },
 "nbformat": 4,
 "nbformat_minor": 2
}
