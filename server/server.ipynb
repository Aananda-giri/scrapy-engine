{
 "cells": [
  {
   "cell_type": "markdown",
   "metadata": {},
   "source": [
    "# Re-initialize Database\n",
    "* note:It will delete everything in MongoDb, Redis and .csv files"
   ]
  },
  {
   "cell_type": "markdown",
   "metadata": {},
   "source": [
    "### Mongo"
   ]
  },
  {
   "cell_type": "code",
   "execution_count": null,
   "metadata": {},
   "outputs": [
    {
     "ename": "",
     "evalue": "",
     "output_type": "error",
     "traceback": [
      "\u001b[1;31mRunning cells with 'ioe_env (Python 3.12.3)' requires the ipykernel package.\n",
      "\u001b[1;31mRun the following command to install 'ipykernel' into the Python environment. \n",
      "\u001b[1;31mCommand: '/home/anon/Documents/ioe_env/bin/python -m pip install ipykernel -U --force-reinstall'"
     ]
    }
   ],
   "source": [
    "# Convert all urls with status: crawled -> to_crawl\n",
    "\n",
    "from mongo import Mongo\n",
    "db=Mongo()\n",
    "db.recover_expired_crawling(0)"
   ]
  },
  {
   "cell_type": "code",
   "execution_count": 3,
   "metadata": {},
   "outputs": [],
   "source": [
    "from mongo import Mongo\n",
    "mongo=Mongo()\n",
    "\n",
    "crawled_data = list(mongo.db['crawled_data'].find())\n",
    "other_data = list(mongo.db['other_data'].find())"
   ]
  },
  {
   "cell_type": "code",
   "execution_count": 7,
   "metadata": {},
   "outputs": [
    {
     "ename": "OperationFailure",
     "evalue": "CMD_NOT_ALLOWED: setParameter, full error: {'ok': 0, 'errmsg': 'CMD_NOT_ALLOWED: setParameter', 'code': 8000, 'codeName': 'AtlasError'}",
     "output_type": "error",
     "traceback": [
      "\u001b[0;31m---------------------------------------------------------------------------\u001b[0m",
      "\u001b[0;31mOperationFailure\u001b[0m                          Traceback (most recent call last)",
      "Cell \u001b[0;32mIn[7], line 5\u001b[0m\n\u001b[1;32m      2\u001b[0m mongo\u001b[38;5;241m=\u001b[39mMongo()\n\u001b[1;32m      4\u001b[0m \u001b[38;5;66;03m# Set log level\u001b[39;00m\n\u001b[0;32m----> 5\u001b[0m \u001b[43mmongo\u001b[49m\u001b[38;5;241;43m.\u001b[39;49m\u001b[43mdb\u001b[49m\u001b[38;5;241;43m.\u001b[39;49m\u001b[43mcommand\u001b[49m\u001b[43m(\u001b[49m\u001b[43m{\u001b[49m\u001b[38;5;124;43m\"\u001b[39;49m\u001b[38;5;124;43msetParameter\u001b[39;49m\u001b[38;5;124;43m\"\u001b[39;49m\u001b[43m:\u001b[49m\u001b[43m \u001b[49m\u001b[38;5;241;43m1\u001b[39;49m\u001b[43m,\u001b[49m\u001b[43m \u001b[49m\u001b[38;5;124;43m\"\u001b[39;49m\u001b[38;5;124;43mlogComponentVerbosity\u001b[39;49m\u001b[38;5;124;43m\"\u001b[39;49m\u001b[43m:\u001b[49m\u001b[43m \u001b[49m\u001b[43m{\u001b[49m\u001b[38;5;124;43m\"\u001b[39;49m\u001b[38;5;124;43mverbosity\u001b[39;49m\u001b[38;5;124;43m\"\u001b[39;49m\u001b[43m:\u001b[49m\u001b[43m \u001b[49m\u001b[38;5;241;43m1\u001b[39;49m\u001b[43m}\u001b[49m\u001b[43m}\u001b[49m\u001b[43m)\u001b[49m\n",
      "File \u001b[0;32m~/mambaforge/envs/machine_env/lib/python3.10/site-packages/pymongo/_csot.py:108\u001b[0m, in \u001b[0;36mapply.<locals>.csot_wrapper\u001b[0;34m(self, *args, **kwargs)\u001b[0m\n\u001b[1;32m    106\u001b[0m         \u001b[38;5;28;01mwith\u001b[39;00m _TimeoutContext(timeout):\n\u001b[1;32m    107\u001b[0m             \u001b[38;5;28;01mreturn\u001b[39;00m func(\u001b[38;5;28mself\u001b[39m, \u001b[38;5;241m*\u001b[39margs, \u001b[38;5;241m*\u001b[39m\u001b[38;5;241m*\u001b[39mkwargs)\n\u001b[0;32m--> 108\u001b[0m \u001b[38;5;28;01mreturn\u001b[39;00m \u001b[43mfunc\u001b[49m\u001b[43m(\u001b[49m\u001b[38;5;28;43mself\u001b[39;49m\u001b[43m,\u001b[49m\u001b[43m \u001b[49m\u001b[38;5;241;43m*\u001b[39;49m\u001b[43margs\u001b[49m\u001b[43m,\u001b[49m\u001b[43m \u001b[49m\u001b[38;5;241;43m*\u001b[39;49m\u001b[38;5;241;43m*\u001b[39;49m\u001b[43mkwargs\u001b[49m\u001b[43m)\u001b[49m\n",
      "File \u001b[0;32m~/mambaforge/envs/machine_env/lib/python3.10/site-packages/pymongo/database.py:897\u001b[0m, in \u001b[0;36mDatabase.command\u001b[0;34m(self, command, value, check, allowable_errors, read_preference, codec_options, session, comment, **kwargs)\u001b[0m\n\u001b[1;32m    892\u001b[0m     read_preference \u001b[38;5;241m=\u001b[39m (session \u001b[38;5;129;01mand\u001b[39;00m session\u001b[38;5;241m.\u001b[39m_txn_read_preference()) \u001b[38;5;129;01mor\u001b[39;00m ReadPreference\u001b[38;5;241m.\u001b[39mPRIMARY\n\u001b[1;32m    893\u001b[0m \u001b[38;5;28;01mwith\u001b[39;00m \u001b[38;5;28mself\u001b[39m\u001b[38;5;241m.\u001b[39m__client\u001b[38;5;241m.\u001b[39m_conn_for_reads(read_preference, session, operation\u001b[38;5;241m=\u001b[39mcommand_name) \u001b[38;5;28;01mas\u001b[39;00m (\n\u001b[1;32m    894\u001b[0m     connection,\n\u001b[1;32m    895\u001b[0m     read_preference,\n\u001b[1;32m    896\u001b[0m ):\n\u001b[0;32m--> 897\u001b[0m     \u001b[38;5;28;01mreturn\u001b[39;00m \u001b[38;5;28;43mself\u001b[39;49m\u001b[38;5;241;43m.\u001b[39;49m\u001b[43m_command\u001b[49m\u001b[43m(\u001b[49m\n\u001b[1;32m    898\u001b[0m \u001b[43m        \u001b[49m\u001b[43mconnection\u001b[49m\u001b[43m,\u001b[49m\n\u001b[1;32m    899\u001b[0m \u001b[43m        \u001b[49m\u001b[43mcommand\u001b[49m\u001b[43m,\u001b[49m\n\u001b[1;32m    900\u001b[0m \u001b[43m        \u001b[49m\u001b[43mvalue\u001b[49m\u001b[43m,\u001b[49m\n\u001b[1;32m    901\u001b[0m \u001b[43m        \u001b[49m\u001b[43mcheck\u001b[49m\u001b[43m,\u001b[49m\n\u001b[1;32m    902\u001b[0m \u001b[43m        \u001b[49m\u001b[43mallowable_errors\u001b[49m\u001b[43m,\u001b[49m\n\u001b[1;32m    903\u001b[0m \u001b[43m        \u001b[49m\u001b[43mread_preference\u001b[49m\u001b[43m,\u001b[49m\n\u001b[1;32m    904\u001b[0m \u001b[43m        \u001b[49m\u001b[43mopts\u001b[49m\u001b[43m,\u001b[49m\n\u001b[1;32m    905\u001b[0m \u001b[43m        \u001b[49m\u001b[43msession\u001b[49m\u001b[38;5;241;43m=\u001b[39;49m\u001b[43msession\u001b[49m\u001b[43m,\u001b[49m\n\u001b[1;32m    906\u001b[0m \u001b[43m        \u001b[49m\u001b[38;5;241;43m*\u001b[39;49m\u001b[38;5;241;43m*\u001b[39;49m\u001b[43mkwargs\u001b[49m\u001b[43m,\u001b[49m\n\u001b[1;32m    907\u001b[0m \u001b[43m    \u001b[49m\u001b[43m)\u001b[49m\n",
      "File \u001b[0;32m~/mambaforge/envs/machine_env/lib/python3.10/site-packages/pymongo/database.py:737\u001b[0m, in \u001b[0;36mDatabase._command\u001b[0;34m(self, conn, command, value, check, allowable_errors, read_preference, codec_options, write_concern, parse_write_concern_error, session, **kwargs)\u001b[0m\n\u001b[1;32m    735\u001b[0m command\u001b[38;5;241m.\u001b[39mupdate(kwargs)\n\u001b[1;32m    736\u001b[0m \u001b[38;5;28;01mwith\u001b[39;00m \u001b[38;5;28mself\u001b[39m\u001b[38;5;241m.\u001b[39m__client\u001b[38;5;241m.\u001b[39m_tmp_session(session) \u001b[38;5;28;01mas\u001b[39;00m s:\n\u001b[0;32m--> 737\u001b[0m     \u001b[38;5;28;01mreturn\u001b[39;00m \u001b[43mconn\u001b[49m\u001b[38;5;241;43m.\u001b[39;49m\u001b[43mcommand\u001b[49m\u001b[43m(\u001b[49m\n\u001b[1;32m    738\u001b[0m \u001b[43m        \u001b[49m\u001b[38;5;28;43mself\u001b[39;49m\u001b[38;5;241;43m.\u001b[39;49m\u001b[43m__name\u001b[49m\u001b[43m,\u001b[49m\n\u001b[1;32m    739\u001b[0m \u001b[43m        \u001b[49m\u001b[43mcommand\u001b[49m\u001b[43m,\u001b[49m\n\u001b[1;32m    740\u001b[0m \u001b[43m        \u001b[49m\u001b[43mread_preference\u001b[49m\u001b[43m,\u001b[49m\n\u001b[1;32m    741\u001b[0m \u001b[43m        \u001b[49m\u001b[43mcodec_options\u001b[49m\u001b[43m,\u001b[49m\n\u001b[1;32m    742\u001b[0m \u001b[43m        \u001b[49m\u001b[43mcheck\u001b[49m\u001b[43m,\u001b[49m\n\u001b[1;32m    743\u001b[0m \u001b[43m        \u001b[49m\u001b[43mallowable_errors\u001b[49m\u001b[43m,\u001b[49m\n\u001b[1;32m    744\u001b[0m \u001b[43m        \u001b[49m\u001b[43mwrite_concern\u001b[49m\u001b[38;5;241;43m=\u001b[39;49m\u001b[43mwrite_concern\u001b[49m\u001b[43m,\u001b[49m\n\u001b[1;32m    745\u001b[0m \u001b[43m        \u001b[49m\u001b[43mparse_write_concern_error\u001b[49m\u001b[38;5;241;43m=\u001b[39;49m\u001b[43mparse_write_concern_error\u001b[49m\u001b[43m,\u001b[49m\n\u001b[1;32m    746\u001b[0m \u001b[43m        \u001b[49m\u001b[43msession\u001b[49m\u001b[38;5;241;43m=\u001b[39;49m\u001b[43ms\u001b[49m\u001b[43m,\u001b[49m\n\u001b[1;32m    747\u001b[0m \u001b[43m        \u001b[49m\u001b[43mclient\u001b[49m\u001b[38;5;241;43m=\u001b[39;49m\u001b[38;5;28;43mself\u001b[39;49m\u001b[38;5;241;43m.\u001b[39;49m\u001b[43m__client\u001b[49m\u001b[43m,\u001b[49m\n\u001b[1;32m    748\u001b[0m \u001b[43m    \u001b[49m\u001b[43m)\u001b[49m\n",
      "File \u001b[0;32m~/mambaforge/envs/machine_env/lib/python3.10/site-packages/pymongo/helpers.py:327\u001b[0m, in \u001b[0;36m_handle_reauth.<locals>.inner\u001b[0;34m(*args, **kwargs)\u001b[0m\n\u001b[1;32m    324\u001b[0m \u001b[38;5;28;01mfrom\u001b[39;00m \u001b[38;5;21;01mpymongo\u001b[39;00m\u001b[38;5;21;01m.\u001b[39;00m\u001b[38;5;21;01mpool\u001b[39;00m \u001b[38;5;28;01mimport\u001b[39;00m Connection\n\u001b[1;32m    326\u001b[0m \u001b[38;5;28;01mtry\u001b[39;00m:\n\u001b[0;32m--> 327\u001b[0m     \u001b[38;5;28;01mreturn\u001b[39;00m \u001b[43mfunc\u001b[49m\u001b[43m(\u001b[49m\u001b[38;5;241;43m*\u001b[39;49m\u001b[43margs\u001b[49m\u001b[43m,\u001b[49m\u001b[43m \u001b[49m\u001b[38;5;241;43m*\u001b[39;49m\u001b[38;5;241;43m*\u001b[39;49m\u001b[43mkwargs\u001b[49m\u001b[43m)\u001b[49m\n\u001b[1;32m    328\u001b[0m \u001b[38;5;28;01mexcept\u001b[39;00m OperationFailure \u001b[38;5;28;01mas\u001b[39;00m exc:\n\u001b[1;32m    329\u001b[0m     \u001b[38;5;28;01mif\u001b[39;00m no_reauth:\n",
      "File \u001b[0;32m~/mambaforge/envs/machine_env/lib/python3.10/site-packages/pymongo/pool.py:985\u001b[0m, in \u001b[0;36mConnection.command\u001b[0;34m(self, dbname, spec, read_preference, codec_options, check, allowable_errors, read_concern, write_concern, parse_write_concern_error, collation, session, client, retryable_write, publish_events, user_fields, exhaust_allowed)\u001b[0m\n\u001b[1;32m    983\u001b[0m     \u001b[38;5;28mself\u001b[39m\u001b[38;5;241m.\u001b[39m_raise_if_not_writable(unacknowledged)\n\u001b[1;32m    984\u001b[0m \u001b[38;5;28;01mtry\u001b[39;00m:\n\u001b[0;32m--> 985\u001b[0m     \u001b[38;5;28;01mreturn\u001b[39;00m \u001b[43mcommand\u001b[49m\u001b[43m(\u001b[49m\n\u001b[1;32m    986\u001b[0m \u001b[43m        \u001b[49m\u001b[38;5;28;43mself\u001b[39;49m\u001b[43m,\u001b[49m\n\u001b[1;32m    987\u001b[0m \u001b[43m        \u001b[49m\u001b[43mdbname\u001b[49m\u001b[43m,\u001b[49m\n\u001b[1;32m    988\u001b[0m \u001b[43m        \u001b[49m\u001b[43mspec\u001b[49m\u001b[43m,\u001b[49m\n\u001b[1;32m    989\u001b[0m \u001b[43m        \u001b[49m\u001b[38;5;28;43mself\u001b[39;49m\u001b[38;5;241;43m.\u001b[39;49m\u001b[43mis_mongos\u001b[49m\u001b[43m,\u001b[49m\n\u001b[1;32m    990\u001b[0m \u001b[43m        \u001b[49m\u001b[43mread_preference\u001b[49m\u001b[43m,\u001b[49m\n\u001b[1;32m    991\u001b[0m \u001b[43m        \u001b[49m\u001b[43mcodec_options\u001b[49m\u001b[43m,\u001b[49m\n\u001b[1;32m    992\u001b[0m \u001b[43m        \u001b[49m\u001b[43msession\u001b[49m\u001b[43m,\u001b[49m\n\u001b[1;32m    993\u001b[0m \u001b[43m        \u001b[49m\u001b[43mclient\u001b[49m\u001b[43m,\u001b[49m\n\u001b[1;32m    994\u001b[0m \u001b[43m        \u001b[49m\u001b[43mcheck\u001b[49m\u001b[43m,\u001b[49m\n\u001b[1;32m    995\u001b[0m \u001b[43m        \u001b[49m\u001b[43mallowable_errors\u001b[49m\u001b[43m,\u001b[49m\n\u001b[1;32m    996\u001b[0m \u001b[43m        \u001b[49m\u001b[38;5;28;43mself\u001b[39;49m\u001b[38;5;241;43m.\u001b[39;49m\u001b[43maddress\u001b[49m\u001b[43m,\u001b[49m\n\u001b[1;32m    997\u001b[0m \u001b[43m        \u001b[49m\u001b[43mlisteners\u001b[49m\u001b[43m,\u001b[49m\n\u001b[1;32m    998\u001b[0m \u001b[43m        \u001b[49m\u001b[38;5;28;43mself\u001b[39;49m\u001b[38;5;241;43m.\u001b[39;49m\u001b[43mmax_bson_size\u001b[49m\u001b[43m,\u001b[49m\n\u001b[1;32m    999\u001b[0m \u001b[43m        \u001b[49m\u001b[43mread_concern\u001b[49m\u001b[43m,\u001b[49m\n\u001b[1;32m   1000\u001b[0m \u001b[43m        \u001b[49m\u001b[43mparse_write_concern_error\u001b[49m\u001b[38;5;241;43m=\u001b[39;49m\u001b[43mparse_write_concern_error\u001b[49m\u001b[43m,\u001b[49m\n\u001b[1;32m   1001\u001b[0m \u001b[43m        \u001b[49m\u001b[43mcollation\u001b[49m\u001b[38;5;241;43m=\u001b[39;49m\u001b[43mcollation\u001b[49m\u001b[43m,\u001b[49m\n\u001b[1;32m   1002\u001b[0m \u001b[43m        \u001b[49m\u001b[43mcompression_ctx\u001b[49m\u001b[38;5;241;43m=\u001b[39;49m\u001b[38;5;28;43mself\u001b[39;49m\u001b[38;5;241;43m.\u001b[39;49m\u001b[43mcompression_context\u001b[49m\u001b[43m,\u001b[49m\n\u001b[1;32m   1003\u001b[0m \u001b[43m        \u001b[49m\u001b[43muse_op_msg\u001b[49m\u001b[38;5;241;43m=\u001b[39;49m\u001b[38;5;28;43mself\u001b[39;49m\u001b[38;5;241;43m.\u001b[39;49m\u001b[43mop_msg_enabled\u001b[49m\u001b[43m,\u001b[49m\n\u001b[1;32m   1004\u001b[0m \u001b[43m        \u001b[49m\u001b[43munacknowledged\u001b[49m\u001b[38;5;241;43m=\u001b[39;49m\u001b[43munacknowledged\u001b[49m\u001b[43m,\u001b[49m\n\u001b[1;32m   1005\u001b[0m \u001b[43m        \u001b[49m\u001b[43muser_fields\u001b[49m\u001b[38;5;241;43m=\u001b[39;49m\u001b[43muser_fields\u001b[49m\u001b[43m,\u001b[49m\n\u001b[1;32m   1006\u001b[0m \u001b[43m        \u001b[49m\u001b[43mexhaust_allowed\u001b[49m\u001b[38;5;241;43m=\u001b[39;49m\u001b[43mexhaust_allowed\u001b[49m\u001b[43m,\u001b[49m\n\u001b[1;32m   1007\u001b[0m \u001b[43m        \u001b[49m\u001b[43mwrite_concern\u001b[49m\u001b[38;5;241;43m=\u001b[39;49m\u001b[43mwrite_concern\u001b[49m\u001b[43m,\u001b[49m\n\u001b[1;32m   1008\u001b[0m \u001b[43m    \u001b[49m\u001b[43m)\u001b[49m\n\u001b[1;32m   1009\u001b[0m \u001b[38;5;28;01mexcept\u001b[39;00m (OperationFailure, NotPrimaryError):\n\u001b[1;32m   1010\u001b[0m     \u001b[38;5;28;01mraise\u001b[39;00m\n",
      "File \u001b[0;32m~/mambaforge/envs/machine_env/lib/python3.10/site-packages/pymongo/network.py:212\u001b[0m, in \u001b[0;36mcommand\u001b[0;34m(conn, dbname, spec, is_mongos, read_preference, codec_options, session, client, check, allowable_errors, address, listeners, max_bson_size, read_concern, parse_write_concern_error, collation, compression_ctx, use_op_msg, unacknowledged, user_fields, exhaust_allowed, write_concern)\u001b[0m\n\u001b[1;32m    210\u001b[0m             client\u001b[38;5;241m.\u001b[39m_process_response(response_doc, session)\n\u001b[1;32m    211\u001b[0m         \u001b[38;5;28;01mif\u001b[39;00m check:\n\u001b[0;32m--> 212\u001b[0m             \u001b[43mhelpers\u001b[49m\u001b[38;5;241;43m.\u001b[39;49m\u001b[43m_check_command_response\u001b[49m\u001b[43m(\u001b[49m\n\u001b[1;32m    213\u001b[0m \u001b[43m                \u001b[49m\u001b[43mresponse_doc\u001b[49m\u001b[43m,\u001b[49m\n\u001b[1;32m    214\u001b[0m \u001b[43m                \u001b[49m\u001b[43mconn\u001b[49m\u001b[38;5;241;43m.\u001b[39;49m\u001b[43mmax_wire_version\u001b[49m\u001b[43m,\u001b[49m\n\u001b[1;32m    215\u001b[0m \u001b[43m                \u001b[49m\u001b[43mallowable_errors\u001b[49m\u001b[43m,\u001b[49m\n\u001b[1;32m    216\u001b[0m \u001b[43m                \u001b[49m\u001b[43mparse_write_concern_error\u001b[49m\u001b[38;5;241;43m=\u001b[39;49m\u001b[43mparse_write_concern_error\u001b[49m\u001b[43m,\u001b[49m\n\u001b[1;32m    217\u001b[0m \u001b[43m            \u001b[49m\u001b[43m)\u001b[49m\n\u001b[1;32m    218\u001b[0m \u001b[38;5;28;01mexcept\u001b[39;00m \u001b[38;5;167;01mException\u001b[39;00m \u001b[38;5;28;01mas\u001b[39;00m exc:\n\u001b[1;32m    219\u001b[0m     duration \u001b[38;5;241m=\u001b[39m datetime\u001b[38;5;241m.\u001b[39mdatetime\u001b[38;5;241m.\u001b[39mnow() \u001b[38;5;241m-\u001b[39m start\n",
      "File \u001b[0;32m~/mambaforge/envs/machine_env/lib/python3.10/site-packages/pymongo/helpers.py:233\u001b[0m, in \u001b[0;36m_check_command_response\u001b[0;34m(response, max_wire_version, allowable_errors, parse_write_concern_error)\u001b[0m\n\u001b[1;32m    230\u001b[0m \u001b[38;5;28;01melif\u001b[39;00m code \u001b[38;5;241m==\u001b[39m \u001b[38;5;241m43\u001b[39m:\n\u001b[1;32m    231\u001b[0m     \u001b[38;5;28;01mraise\u001b[39;00m CursorNotFound(errmsg, code, response, max_wire_version)\n\u001b[0;32m--> 233\u001b[0m \u001b[38;5;28;01mraise\u001b[39;00m OperationFailure(errmsg, code, response, max_wire_version)\n",
      "\u001b[0;31mOperationFailure\u001b[0m: CMD_NOT_ALLOWED: setParameter, full error: {'ok': 0, 'errmsg': 'CMD_NOT_ALLOWED: setParameter', 'code': 8000, 'codeName': 'AtlasError'}"
     ]
    }
   ],
   "source": [
    "from mongo import Mongo\n",
    "mongo=Mongo()\n",
    "\n",
    "# Set log level\n",
    "mongo.db.command({\"setParameter\": 1, \"logComponentVerbosity\": {\"verbosity\": 1}})"
   ]
  },
  {
   "cell_type": "code",
   "execution_count": 58,
   "metadata": {},
   "outputs": [
    {
     "name": "stdout",
     "output_type": "stream",
     "text": [
      "DB Size:  173.65856742858887\n",
      "Storage Size:  106.703125\n",
      "Free Storage Space:  0.0\n"
     ]
    }
   ],
   "source": [
    "db=mongo.db\n",
    "# Get database stats\n",
    "stats = db.command(\"dbstats\")\n",
    "\n",
    "# Print the stats\n",
    "print(\"DB Size: \", stats['dataSize']/(1024*1024))\n",
    "print(\"Storage Size: \", stats['storageSize']/(1024*1024))\n",
    "print(\"Free Storage Space: \", stats['totalFreeStorageSize']/(1024*1024))"
   ]
  },
  {
   "cell_type": "code",
   "execution_count": 56,
   "metadata": {},
   "outputs": [
    {
     "data": {
      "text/plain": [
       "dict_keys(['db', 'collections', 'views', 'objects', 'avgObjSize', 'dataSize', 'storageSize', 'totalFreeStorageSize', 'numExtents', 'indexes', 'indexSize', 'indexFreeStorageSize', 'fileSize', 'nsSizeMB', 'ok'])"
      ]
     },
     "execution_count": 56,
     "metadata": {},
     "output_type": "execute_result"
    }
   ],
   "source": [
    "stats"
   ]
  },
  {
   "cell_type": "code",
   "execution_count": 66,
   "metadata": {},
   "outputs": [
    {
     "name": "stdout",
     "output_type": "stream",
     "text": [
      "db: scrapy-engine\n",
      "collections: 11\n",
      "views: 0\n",
      "objects: 0.716404914855957 Mb\n",
      "avgObjSize: 242.40281414527325\n",
      "dataSize: 173.65856742858887 Mb\n",
      "storageSize: 106.703125 Mb\n",
      "totalFreeStorageSize: 0\n",
      "numExtents: 0\n",
      "indexes: 18\n",
      "indexSize: 139.48828125 Mb\n",
      "indexFreeStorageSize: 0\n",
      "fileSize: 0\n",
      "nsSizeMB: 0\n",
      "ok: 1\n"
     ]
    }
   ],
   "source": [
    "for key in stats:\n",
    "    if type(stats[key])!=str and stats[key] > 1024:\n",
    "        print(f'{key}: {stats[key]/(1024*1024)} Mb')\n",
    "    else:\n",
    "        print(f'{key}: {stats[key]}')"
   ]
  },
  {
   "cell_type": "code",
   "execution_count": 65,
   "metadata": {},
   "outputs": [
    {
     "data": {
      "text/plain": [
       "int"
      ]
     },
     "execution_count": 65,
     "metadata": {},
     "output_type": "execute_result"
    }
   ],
   "source": [
    "type(stats[key])"
   ]
  },
  {
   "cell_type": "code",
   "execution_count": 48,
   "metadata": {},
   "outputs": [
    {
     "name": "stdout",
     "output_type": "stream",
     "text": [
      "Free Storage Space:  173.62867164611816\n"
     ]
    }
   ],
   "source": [
    "print(\"Free Storage Space: \", stats['dataSize']/(1024*1024))"
   ]
  },
  {
   "cell_type": "code",
   "execution_count": 29,
   "metadata": {},
   "outputs": [
    {
     "data": {
      "text/plain": [
       "123320"
      ]
     },
     "execution_count": 29,
     "metadata": {},
     "output_type": "execute_result"
    }
   ],
   "source": [
    "# len(to_crawl)\n",
    "from mongo import Mongo\n",
    "db=Mongo()\n",
    "\n",
    "# length of to_crawl\n",
    "db.collection.count_documents({\"status\": \"crawled\"})"
   ]
  },
  {
   "cell_type": "code",
   "execution_count": 69,
   "metadata": {},
   "outputs": [
    {
     "name": "stdout",
     "output_type": "stream",
     "text": [
      "** Crawl Queue Status **\n",
      "To Crawl: 626,640\n",
      "Crawling: 395\n",
      "Crawled: 123,927\n"
     ]
    }
   ],
   "source": [
    "\n",
    "import locale\n",
    "locale.setlocale(locale.LC_ALL, 'en_US.UTF-8')\n",
    "from mongo import Mongo\n",
    "db=Mongo()\n",
    "\n",
    "# length of to_crawl\n",
    "to_crawl_count = db.collection.count_documents({\"status\": \"to_crawl\"})\n",
    "crawling_count = db.collection.count_documents({\"status\": \"crawling\"})\n",
    "crawled_count = db.collection.count_documents({\"status\": \"crawled\"})\n",
    "\n",
    "# Nice formatted view for to_crawl, crawled and crawling\n",
    "# Formatted output\n",
    "print(\"** Crawl Queue Status **\")\n",
    "print(f\"To Crawl: {locale.format_string('%d', to_crawl_count, grouping=True)}\")\n",
    "print(f\"Crawling: {locale.format_string('%d', crawling_count, grouping=True)}\")\n",
    "print(f\"Crawled: {locale.format_string('%d', crawled_count, grouping=True)}\")"
   ]
  },
  {
   "cell_type": "code",
   "execution_count": null,
   "metadata": {},
   "outputs": [],
   "source": [
    "from mongo import Mongo\n",
    "db=Mongo()\n",
    "\n",
    "# # delete all \"to_crawl\" urls starting with \"https://www.bbc.com\" that do not start with \"https://www.bbc.com/nepali\"\n",
    "collection = db.collection\n",
    "collection.delete_many({\"status\": \"to_crawl\", \"url\": {\"$regex\": \"^https://www.bbc.com\", \"$not\": {\"$regex\": \"^https://www.bbc.com/nepali\"}}})\n",
    "collection.delete_many({\"status\": \"crawling\", \"url\": {\"$regex\": \"^https://www.bbc.com\", \"$not\": {\"$regex\": \"^https://www.bbc.com/nepali\"}}})\n",
    "\n",
    "collection.delete_many({\"status\": \"to_crawl\", \"url\": {\"$regex\": \"^https://www.bbc.co.uk/\", \"$not\": {\"$regex\": \"^https://www.bbc.co.uk/nepali\"}}})\n",
    "collection.delete_many({\"status\": \"crawling\", \"url\": {\"$regex\": \"^https://www.bbc.co.uk/\", \"$not\": {\"$regex\": \"^https://www.bbc.co.uk/nepali\"}}})"
   ]
  },
  {
   "cell_type": "code",
   "execution_count": 2,
   "metadata": {},
   "outputs": [
    {
     "data": {
      "text/plain": [
       "DeleteResult({'n': 1842, 'electionId': ObjectId('7fffffff0000000000000400'), 'opTime': {'ts': Timestamp(1714996543, 904), 't': 1024}, 'ok': 1.0, '$clusterTime': {'clusterTime': Timestamp(1714996543, 906), 'signature': {'hash': b'S\\x07\\xf5\\x03l\\x98\\xdd\\xc2d\\xa7t\\xfa(T\\xd8aH\\xc2\\xe9,', 'keyId': 7318892626235621378}}, 'operationTime': Timestamp(1714996543, 904)}, acknowledged=True)"
      ]
     },
     "execution_count": 2,
     "metadata": {},
     "output_type": "execute_result"
    }
   ],
   "source": [
    "## Delete all (does-not require re-indexing)\n",
    "db.collection.delete_many({})"
   ]
  },
  {
   "cell_type": "code",
   "execution_count": 3,
   "metadata": {},
   "outputs": [
    {
     "data": {
      "text/plain": [
       "'url_1'"
      ]
     },
     "execution_count": 3,
     "metadata": {},
     "output_type": "execute_result"
    }
   ],
   "source": [
    "# Create index for unique url\n",
    "db.collection.create_index('url', unique=True)"
   ]
  },
  {
   "cell_type": "code",
   "execution_count": null,
   "metadata": {},
   "outputs": [],
   "source": [
    "# Populate initial Start Urls\n",
    "import time\n",
    "from mongo_db_handler import MongoDBHandler\n",
    "db_handler = MongoDBHandler(collection_name=\"scrapy-engine\", db_name=\"scrapy-engine\")\n",
    "\n",
    "start_urls = [\"https://onlinemajdoor.com/\", \"http://nepalipost.com/beta/\", \"https://nepalkhabar.com/\", \"https://www.nepalipaisa.com/\", \"https://topnepalnews.com/\",  \"https://www.dainiknepal.com/\", \"https://www.bbc.com/nepali\", \"https://deshsanchar.com/\"]\n",
    "\n",
    "db_handler.insert_many([{'url':url, 'timestamp':time.time(), 'status':'to_crawl'} for url in start_urls], collection_name='urls-collection')"
   ]
  },
  {
   "cell_type": "code",
   "execution_count": null,
   "metadata": {},
   "outputs": [],
   "source": [
    "# Add new start urls\n",
    "import time\n",
    "from mongo_db_handler import MongoDBHandler\n",
    "db_handler = MongoDBHandler(collection_name=\"scrapy-engine\", db_name=\"scrapy-engine\")\n",
    "new_start_urls = list(set([\"https://kantipurtv.com/\", \"https://www.janaboli.com/\", \"https://ekagaj.com/\", \"https://www.nepalviews.com/\", \"https://hib.gov.np/\", \"https://butwalmun.gov.np/\", \"https://swasthyakhabar.com/\", \"https://hetaudamun.gov.np/\", \"https://hr.parliament.gov.np/\", \"https://www.immigration.gov.np/\", \"https://pppc.bagamati.gov.np/newsandnotices\", \"http://mahakalimundarchula.gov.np/taxonomy/term/110\", \"https://www.dor.gov.np/home/news\", \"https://np.usembassy.gov/ne/\", \"https://lawcommission.gov.np/np/\", \"https://sabailamun.gov.np/ne/\", \"https://daokathmandu.moha.gov.np/\", \"https://barjumun.gov.np/\", \"https://na.parliament.gov.np/\", \"https://panchkhalmun.gov.np/ne/news-notices\", \"https://moics.gov.np/\", \"https://www.dor.gov.np/\"]))\n",
    "for url in new_start_urls:\n",
    "    try:\n",
    "        db_handler.insert_one({'url':url, 'timestamp':time.time(), 'status':'to_crawl'} , collection_name='urls-collection')\n",
    "    except Exception as ex:\n",
    "        print(ex)"
   ]
  },
  {
   "cell_type": "markdown",
   "metadata": {},
   "source": [
    "### Redis"
   ]
  },
  {
   "cell_type": "code",
   "execution_count": 5,
   "metadata": {},
   "outputs": [
    {
     "data": {
      "text/plain": [
       "[]"
      ]
     },
     "execution_count": 5,
     "metadata": {},
     "output_type": "execute_result"
    }
   ],
   "source": [
    "from dotenv import load_dotenv\n",
    "load_dotenv()\n",
    "\n",
    "import redis\n",
    "import os\n",
    "\n",
    "redis_client = redis.Redis(\n",
    "            host=os.environ.get('REDIS_HOST', 'localhost'),\n",
    "            port = int(os.environ.get('REDIS_PORT', 6379)),\n",
    "            password=os.environ.get('REDIS_PASSWORD', None),\n",
    "        )\n",
    "\n",
    "# delete all key-value pairs\n",
    "redis_client.flushall()\n",
    "\n",
    "# Get all keys from redis\n",
    "redis_client.keys()"
   ]
  },
  {
   "cell_type": "markdown",
   "metadata": {},
   "source": [
    "### CSV Files"
   ]
  },
  {
   "cell_type": "code",
   "execution_count": 6,
   "metadata": {},
   "outputs": [],
   "source": [
    "# Remove crawled_data.csv\n",
    "!rm crawled_data.csv\n",
    "\n",
    "# Remove other_data.csv\n",
    "!rm other_data.csv"
   ]
  },
  {
   "cell_type": "markdown",
   "metadata": {},
   "source": [
    "## Tasks\n",
    "* Continuously fetch data from redis\n",
    "* "
   ]
  },
  {
   "cell_type": "markdown",
   "metadata": {},
   "source": [
    "## Save Crawled Data"
   ]
  },
  {
   "cell_type": "code",
   "execution_count": null,
   "metadata": {},
   "outputs": [],
   "source": [
    "\n",
    "import csv\n",
    "import dotenv\n",
    "import json\n",
    "import os\n",
    "import redis\n",
    "import threading\n",
    "import time\n",
    "dotenv.load_dotenv()\n",
    "\n",
    "\n",
    "def pop_from_redis():\n",
    "    # print('call gari rako muji')\n",
    "    lists_to_pop = ['crawled_data', 'other_data']       # , 'crawled', 'to_crawl']\n",
    "    popped_data = {}\n",
    "    for list_name in lists_to_pop:\n",
    "        if list_name not in popped_data:\n",
    "            popped_data[list_name] = []\n",
    "        # print(f'list_name:{list_name}')\n",
    "        \n",
    "        # pop until the list is empty\n",
    "        while redis_client.llen(list_name) > 0:\n",
    "            # print(f'list_name:{list_name}')\n",
    "            popped_data[list_name].append(json.loads(redis_client.rpop(list_name)))\n",
    "    # print(\"return vayo muji\")\n",
    "    return popped_data\n",
    "\n",
    "    '''\n",
    "    e.g. format\n",
    "    {\n",
    "        'crawled_data': {\n",
    "\n",
    "        },\n",
    "        'other_data': {\n",
    "            \n",
    "        }\n",
    "    }\n",
    "    '''\n",
    "\n",
    "def push_to_redis(list_name, data):\n",
    "    redis_client.lpush(list_name, data)\n",
    "\n",
    "\n",
    "# Connect to your Redis server\n",
    "redis_client = redis.Redis(\n",
    "    host=os.environ.get('REDIS_HOST', 'localhost'),\n",
    "    port = int(os.environ.get('REDIS_PORT', 6379)),\n",
    "    password=os.environ.get('REDIS_PASSWORD', None),\n",
    ")\n",
    "\n",
    "\n",
    "\n",
    "def save_to_csv(data, data_type=\"crawled_data\"):\n",
    "    for key, data_items in data.items():\n",
    "        csv_file_path = key + \".csv\"\n",
    "        if data_items:\n",
    "            # field_names = ['paragraph', 'parent_url', 'page_title', 'is_nepali_confidence']\n",
    "            field_names = data_items[0].keys()\n",
    "            file_exists = os.path.exists(csv_file_path)\n",
    "            print(f'file_exists: {file_exists}')\n",
    "            # Open the CSV file in append mode\n",
    "            with open(csv_file_path, 'a', newline='', encoding='utf-8') as csvfile:\n",
    "                # Create a CSV writer object\n",
    "                csv_writer = csv.DictWriter(csvfile, fieldnames=field_names)\n",
    "\n",
    "                # If the file doesn't exist, write the header\n",
    "                if not file_exists:\n",
    "                    csv_writer.writeheader()\n",
    "\n",
    "                # Append the new data\n",
    "                csv_writer.writerows(data_items)\n",
    "\n",
    "def load_from_csv(csv_file_path=\"crawled_data.csv\"):\n",
    "    data = []\n",
    "    # Open the CSV file in read mode\n",
    "    with open(csv_file_path, 'r', encoding='utf-8') as csvfile:\n",
    "        # Create a CSV reader object\n",
    "        csv_reader = csv.DictReader(csvfile)\n",
    "\n",
    "        # Read and print each row of data\n",
    "        for row in csv_reader:\n",
    "            data.append(row)\n",
    "            # print(row)\n",
    "    return data\n",
    "\n",
    "def producer():\n",
    "    import random\n",
    "    print('producer')\n",
    "    data_paragraphs_copy = [{'paragraph': 'प्रदेश सरकार र निजी क्षेत्रको सहकार्यमा पहाडी तथा हिमाली क्षेत्रमा मनोरञ्जनात्मक तथा साहसिक पर्यटनको लागि हिलस्टेशनहरू विकास गर्न आवश्यक छ भन्दै उनले सांस्कृतिक, धार्मिक, साहसिक, कृषि, स्वास्थ्य तथा खेल पर्यटक आकर्षित गर्दै यस क्षेत्रको मौलिक संस्कृति संरक्षणमा महोत्सवले सहयोग गर्ने विश्वास व्यक्त गरे ।\\xa0', 'parent_url': 'https://hamrakura.com/news-details/161504/2023-12-27', 'page_title': 'लोकतन्त्रको आन्दोलन उठाउँदाकै आस्थाबाट निर्देशित छु – राष्ट्रपति पौडेल', 'is_nepali_confidence':'-1914.427728056908'},\n",
    "        {'paragraph': 'त्रिवेणी बाहेक अन्य पालिकाबाट कुन-कुन घर परिवारले रकम पाउने भन्ने विवरण नआइसकेकाले ती पालिकाका लागि रकम निकासा भने हुन सकेको छैन ।', 'parent_url': 'https://hamrakura.com/news-details/159820/2023-11-28', 'page_title': 'भूकम्पपीडितको अस्थायी आवासका लागि रकम निकासा', 'is_nepali_confidence':'-800.0689898729324'},\n",
    "        {'paragraph': 'निर्वाचित मण्डलले निर्वाचनका सबै प्रक्रिया अघि बढाएपनी सहमतिका लागि शीर्ष नेताहरूले समय मागेकाले निर्वाचन कमिटीले समय दिएको थियो । निर्वाचन कमिटीका संयोजक जगत बहादुर रोकायाले बताए ।','parent_url': 'https://hamrakura.com/news-details/160003/2023-12-01', 'page_title': 'अध्यक्ष मण्डलले घोषणा गरे जिल्ला कमिटी, टिके प्रथा चलाएको रावल पक्षको आरोप', 'is_nepali_confidence':'-1128.5258438587189'},\n",
    "        {'paragraph': 'अहिलेसम्म एनसेलले शेयर किनबेच गरेको सम्बन्धमा नेपाल दूरसञ्चार प्राधिकरणले गरेको काम कारबाहीको सम्बन्धमा जानकारी माग्ने पत्र लेख्ने', 'parent_url':'https://hamrakura.com/news-details/161068/2023-12-19', 'page_title': 'एनसेलले राज्यलाई तिर्नुपर्ने कर असुल उपर गर्न सरकारलाई समितिको निर्देशन [भिडियो]', 'is_nepali_confidence':'-800.2218471765518'}\n",
    "        ]\n",
    "    while True:\n",
    "        # add n items to the list\n",
    "        n_items = random.randint(0, 3)\n",
    "        data_paragraphs.extend(data_paragraphs_copy[:n_items])\n",
    "        print(f'produced: {n_items}')\n",
    "\n",
    "        # sleep randomly between 0 and 5 seconds\n",
    "        time.sleep(random.randint(0, 5))\n",
    "\n",
    "def publisher():\n",
    "    print('published')\n",
    "    while True:\n",
    "        \n",
    "        if data_paragraphs:\n",
    "            pushed = 0\n",
    "            for paragraph in data_paragraphs:\n",
    "                push_to_redis('crawled_data', json.dumps(data_paragraphs.pop()))\n",
    "                pushed += 1\n",
    "            print(f'---published: {pushed}---')\n",
    "        else:\n",
    "            time.sleep(5)  # sleep for a while before producing more items\n",
    "        # time.sleep(1)  # sleep for a while before producing more items\n",
    "\n",
    "def consumer():\n",
    "    print('consumer')\n",
    "    pulled = 0\n",
    "    while True:\n",
    "        # print('consumer')\n",
    "        paragraphs = pop_from_redis()\n",
    "        \n",
    "        if paragraphs:\n",
    "            save_to_csv(paragraphs)\n",
    "            pulled += len(paragraphs)\n",
    "            print(f'======consumed: {len(paragraphs)}')     #\\n\\n current_count:{redis_client.llen(\"paragraphs\")}')\n",
    "            # print(f'len(paragraphs): {len(paragraphs)} \\n\\n paragraphs:{paragraphs}')\n",
    "        else:\n",
    "            print('------------------')   # No Data\n",
    "            time.sleep(1)  # sleep for a while before consuming more items\n",
    "\n",
    "data_paragraphs = []\n",
    "\n",
    "# # Create producer and consumer threads\n",
    "# producer_thread = threading.Thread(target=producer)\n",
    "# publisher_thread = threading.Thread(target=publisher)\n",
    "# consumer_thread = threading.Thread(target=consumer)\n",
    "\n",
    "\n",
    "# # Start the threads\n",
    "# producer_thread.start()\n",
    "# # consumer_thread.start()\n",
    "# publisher_thread.start()\n",
    "\n",
    "# # Wait for both threads to finish\n",
    "# producer_thread.join()\n",
    "# publisher_thread.join()\n",
    "# # consumer_thread.join()\n"
   ]
  },
  {
   "cell_type": "markdown",
   "metadata": {},
   "source": [
    "### One time operation"
   ]
  },
  {
   "cell_type": "code",
   "execution_count": 5,
   "metadata": {},
   "outputs": [],
   "source": [
    "# Populate initial Start Urls\n",
    "import time\n",
    "from mongo_db_handler import MongoDBHandler\n",
    "db_handler = MongoDBHandler(collection_name=\"scrapy-engine\", db_name=\"scrapy-engine\")\n",
    "\n",
    "start_urls = [\"https://onlinemajdoor.com/\", \"http://nepalipost.com/beta/\", \"https://nepalkhabar.com/\", \"https://www.nepalipaisa.com/\", \"https://topnepalnews.com/\",  \"https://www.dainiknepal.com/\", \"https://www.bbc.com/nepali\"]\n",
    "\n",
    "db_handler.insert_many([{'url':url, 'timestamp':time.time(), 'status':'to_crawl'} for url in start_urls], collection_name='urls-collection')"
   ]
  },
  {
   "cell_type": "code",
   "execution_count": null,
   "metadata": {},
   "outputs": [],
   "source": [
    "# Indexing by url\n",
    "mongo = Mongo()\n",
    "\n",
    "collection_names = ['url_crawled', 'url_to_crawl', 'url_crawling']\n",
    "for collection_name in collection_names:\n",
    "    mongo.db_handler.delete_all(collection_name=collection_name)\n",
    "    mongo.db_handler.db[collection_name].create_index('url', unique=True)"
   ]
  },
  {
   "cell_type": "code",
   "execution_count": 8,
   "metadata": {},
   "outputs": [],
   "source": [
    "# Convert all urls with status: crawled -> to_crawl\n",
    "\n",
    "from mongo import Mongo\n",
    "db=Mongo()\n",
    "db.recover_expired_crawling(0)"
   ]
  },
  {
   "cell_type": "code",
   "execution_count": 9,
   "metadata": {},
   "outputs": [
    {
     "data": {
      "text/plain": [
       "'url_1'"
      ]
     },
     "execution_count": 9,
     "metadata": {},
     "output_type": "execute_result"
    }
   ],
   "source": [
    "# Create index for unique url\n",
    "db.collection.create_index('url', unique=True)"
   ]
  },
  {
   "cell_type": "code",
   "execution_count": null,
   "metadata": {},
   "outputs": [],
   "source": [
    "# print all urls with status to_crawl\n",
    "print(list(db.collection.find({'status':'to_crawl'})))"
   ]
  },
  {
   "cell_type": "code",
   "execution_count": null,
   "metadata": {},
   "outputs": [],
   "source": [
    "## Delete all (does-not require re-indexing)\n",
    "db.collection.delete_many({})"
   ]
  },
  {
   "cell_type": "code",
   "execution_count": null,
   "metadata": {},
   "outputs": [],
   "source": [
    "# Display all entries\n",
    "list(db.collection.find())"
   ]
  },
  {
   "cell_type": "markdown",
   "metadata": {},
   "source": [
    "### Error Data"
   ]
  },
  {
   "cell_type": "code",
   "execution_count": null,
   "metadata": {},
   "outputs": [],
   "source": [
    "# Append error mannually\n",
    "from mongo import Mongo\n",
    "db = Mongo()\n",
    "error_data = {'url': 'https://nepalkhabar.com/', 'timestamp': 1714993152.5575845, 'status': 'error', 'status_code': 403, 'error_type': 'HttpError'}\n",
    "db.append_error_data(error_data)"
   ]
  },
  {
   "cell_type": "code",
   "execution_count": null,
   "metadata": {},
   "outputs": [],
   "source": [
    "# Get urls with status: error\n",
    "list(db.collection.find({'status':'error'}))"
   ]
  },
  {
   "cell_type": "markdown",
   "metadata": {},
   "source": [
    "### Upload/Download crawled_data from mongo"
   ]
  },
  {
   "cell_type": "code",
   "execution_count": 4,
   "metadata": {},
   "outputs": [],
   "source": [
    "paragraph_data = {'paragraph': 'प्रदेश सरकार र निजी क्षेत्रको सहकार्यमा पहाडी तथा हिमाली क्षेत्रमा मनोरञ्जनात्मक तथा साहसिक पर्यटनको लागि हिलस्टेशनहरू विकास गर्न आवश्यक छ भन्दै उनले सांस्कृतिक, धार्मिक, साहसिक, कृषि, स्वास्थ्य तथा खेल पर्यटक आकर्षित गर्दै यस क्षेत्रको मौलिक संस्कृति संरक्षणमा महोत्सवले सहयोग गर्ने विश्वास व्यक्त गरे ।\\xa0', 'parent_url': 'https1://hamrakura.com/news-details/161504/2023-12-27', 'page_title': 'लोकतन्त्रको आन्दोलन उठाउँदाकै आस्थाबाट निर्देशित छु – राष्ट्रपति पौडेल', 'is_nepali_confidence':'-1914.427728056908'}\n",
    "from mongo import Mongo\n",
    "mongo = Mongo()\n",
    "\n",
    "# Create index for unique url\n",
    "# mongo.db['crawled_data'].create_index('parent_url', unique=True)\n",
    "# mongo.db['other_data'].create_index('parent_url', unique=True)\n",
    "\n",
    "# mongo.db['crawled_data'].drop_index('parent_url_1')\n",
    "# mongo.db['other_data'].drop_index('parent_url_1')"
   ]
  },
  {
   "cell_type": "code",
   "execution_count": 36,
   "metadata": {},
   "outputs": [
    {
     "data": {
      "text/plain": [
       "DeleteResult({'n': 0, 'electionId': ObjectId('7fffffff0000000000000401'), 'opTime': {'ts': Timestamp(1715141605, 5), 't': 1025}, 'ok': 1.0, '$clusterTime': {'clusterTime': Timestamp(1715141605, 8), 'signature': {'hash': b'>[\\xfcSb\\xb3\\xb6\"\\xc0\\xd8 \\x830\"\\xe3\\x9f\\xf2\\x87\\xf3\\xf4', 'keyId': 7318892626235621378}}, 'operationTime': Timestamp(1715141605, 5)}, acknowledged=True)"
      ]
     },
     "execution_count": 36,
     "metadata": {},
     "output_type": "execute_result"
    }
   ],
   "source": [
    "# mongo.db['crawled_data'].delete_many({})\n",
    "# mongo.db['other_data'].delete_many({})"
   ]
  },
  {
   "cell_type": "code",
   "execution_count": 87,
   "metadata": {},
   "outputs": [
    {
     "data": {
      "text/plain": [
       "{'crawled_data': [{'_id': ObjectId('663b079024073125d38e9547'),\n",
       "   'paragraph': 'test',\n",
       "   'parent_url': 'https://hamrakura.com/news-details/161504/2023-12-27',\n",
       "   'page_title': 'लोकतन्त्रको आन्दोलन उठाउँदाकै आस्थाबाट निर्देशित छु – राष्ट्रपति पौडेल',\n",
       "   'is_nepali_confidence': '-1914.427728056908'}],\n",
       " 'other_data': [{'_id': ObjectId('663b079024073125d38e9548'),\n",
       "   'paragraph': 'test',\n",
       "   'parent_url': 'some_url'}]}"
      ]
     },
     "execution_count": 87,
     "metadata": {},
     "output_type": "execute_result"
    }
   ],
   "source": [
    "# Insert the data (Done by scrapy)\n",
    "try:\n",
    "    paragraph_data = {'paragraph': 'test', 'parent_url': 'https://hamrakura.com/news-details/161504/2023-12-27', 'page_title': 'लोकतन्त्रको आन्दोलन उठाउँदाकै आस्थाबाट निर्देशित छु – राष्ट्रपति पौडेल', 'is_nepali_confidence':'-1914.427728056908'}\n",
    "    mongo.db['crawled_data'].insert_one(paragraph_data)\n",
    "except Exception as e:\n",
    "    print(e)\n",
    "try:\n",
    "    mongo.db['other_data'].insert_one({'paragraph':'test', 'parent_url':'some_url'})\n",
    "except Exception as ex:\n",
    "    pass\n",
    "\n",
    "# Find all the data\n",
    "crawled_data = list(mongo.db['crawled_data'].find())\n",
    "other_data = list(mongo.db['other_data'].find())\n",
    "combined_data = {\"crawled_data\":crawled_data, \"other_data\":other_data}\n",
    "combined_data"
   ]
  },
  {
   "cell_type": "code",
   "execution_count": 88,
   "metadata": {},
   "outputs": [
    {
     "name": "stdout",
     "output_type": "stream",
     "text": [
      "file_exists: False\n",
      "file_exists: False\n"
     ]
    },
    {
     "data": {
      "text/plain": [
       "DeleteResult({'n': 1, 'electionId': ObjectId('7fffffff0000000000000401'), 'opTime': {'ts': Timestamp(1715144594, 1), 't': 1025}, 'ok': 1.0, '$clusterTime': {'clusterTime': Timestamp(1715144594, 1), 'signature': {'hash': b'f\\xa32WG\\xb6\\x187\\xe2\\xd3\\xa8v\\xab\\xb7\\xb0!\\x94\\xaf\\x11\\xf3', 'keyId': 7318892626235621378}}, 'operationTime': Timestamp(1715144594, 1)}, acknowledged=True)"
      ]
     },
     "execution_count": 88,
     "metadata": {},
     "output_type": "execute_result"
    }
   ],
   "source": [
    "crawled_data = list(mongo.db['crawled_data'].find())\n",
    "other_data = list(mongo.db['other_data'].find())\n",
    "combined_data = {\"crawled_data\":crawled_data, \"other_data\":other_data}\n",
    "combined_data\n",
    "# Save to .csv file\n",
    "save_to_csv(combined_data)\n",
    "\n",
    "# Delete multiple data by id\n",
    "mongo.db['crawled_data'].delete_many({\"_id\": {\"$in\": [data['_id'] for data in crawled_data]} })\n",
    "mongo.db['other_data'].delete_many({\"_id\": {\"$in\": [data_ot['_id'] for data_ot in other_data]} })\n"
   ]
  },
  {
   "cell_type": "code",
   "execution_count": 83,
   "metadata": {},
   "outputs": [
    {
     "data": {
      "text/plain": [
       "DeleteResult({'n': 0, 'electionId': ObjectId('7fffffff0000000000000401'), 'opTime': {'ts': Timestamp(1715144489, 19), 't': 1025}, 'ok': 1.0, '$clusterTime': {'clusterTime': Timestamp(1715144489, 20), 'signature': {'hash': b'\\xcf\\x0f;\\x0cj\\x95w\\xa7\\x9b\\x96ZA\\xcew\\xdfBI\\x01\\xfa:', 'keyId': 7318892626235621378}}, 'operationTime': Timestamp(1715144489, 19)}, acknowledged=True)"
      ]
     },
     "execution_count": 83,
     "metadata": {},
     "output_type": "execute_result"
    }
   ],
   "source": [
    "collection.delete_many({\"_id\": {\"$in\": [\"663b070124073125d38e9543\", \"663b05c524073125d38e953d\"]} })"
   ]
  },
  {
   "cell_type": "code",
   "execution_count": 89,
   "metadata": {},
   "outputs": [
    {
     "data": {
      "text/plain": [
       "{'crawled_data': [], 'other_data': []}"
      ]
     },
     "execution_count": 89,
     "metadata": {},
     "output_type": "execute_result"
    }
   ],
   "source": [
    "# Get crawled_data\n",
    "crawled_data = list(mongo.db['crawled_data'].find())\n",
    "other_data = list(mongo.db['other_data'].find())\n",
    "combined_data = {\"crawled_data\":crawled_data, \"other_data\":other_data}\n",
    "combined_data"
   ]
  },
  {
   "cell_type": "code",
   "execution_count": 60,
   "metadata": {},
   "outputs": [
    {
     "name": "stdout",
     "output_type": "stream",
     "text": [
      "file_exists: True\n"
     ]
    }
   ],
   "source": [
    "import os, csv\n",
    "def save_to_csv(data, data_type=\"crawled_data\"):\n",
    "        for key, data_items in data.items():\n",
    "            csv_file_path = key + \".csv\"\n",
    "            if data_items:\n",
    "                # field_names = ['paragraph', 'parent_url', 'page_title', 'is_nepali_confidence']\n",
    "                field_names = data_items[0].keys()\n",
    "                file_exists = os.path.exists(csv_file_path)\n",
    "                print(f'file_exists: {file_exists}')\n",
    "                # Open the CSV file in append mode\n",
    "                with open(csv_file_path, 'a', newline='', encoding='utf-8') as csvfile:\n",
    "                    # Create a CSV writer object\n",
    "                    csv_writer = csv.DictWriter(csvfile, fieldnames=field_names)\n",
    "\n",
    "                    # If the file doesn't exist, write the header\n",
    "                    if not file_exists:\n",
    "                        csv_writer.writeheader()\n",
    "\n",
    "                    # Append the new data\n",
    "                    csv_writer.writerows(data_items)\n",
    "\n"
   ]
  }
 ],
 "metadata": {
  "kernelspec": {
   "display_name": "ioe_env",
   "language": "python",
   "name": "python3"
  },
  "language_info": {
   "codemirror_mode": {
    "name": "ipython",
    "version": 3
   },
   "file_extension": ".py",
   "mimetype": "text/x-python",
   "name": "python",
   "nbconvert_exporter": "python",
   "pygments_lexer": "ipython3",
   "version": "3.10.12"
  }
 },
 "nbformat": 4,
 "nbformat_minor": 2
}
