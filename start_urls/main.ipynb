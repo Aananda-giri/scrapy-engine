{
 "cells": [
  {
   "cell_type": "code",
   "execution_count": 1,
   "metadata": {},
   "outputs": [],
   "source": [
    "other_urls_from_web = [\"https://www.bbc.com/nepali\", \"https://kantipurtv.com/\",\"https://www.janaboli.com/\",\"https://ekagaj.com/\",\"https://www.nepalviews.com/\",\"https://swasthyakhabar.com/\",\"https://www.pariwartankhabar.com/\",\"https://www.newsofnepal.com\",\"https://deshsanchar.com/\",\"https://mysansar.com/\",\"https://www.ukaalo.com/\",\"https://www.ukeraa.com/\",\"https://cijnepal.org.np/\",\"https://www.dekhapadhi.com/\",\"https://www.annapurnapost.com/\",\"https://nepaltvonline.com/\",\"https://bizmandu.com/\",\"https://www.canadanepal.com/\",\"https://www.news24nepal.com/\", \"https://www.karobardaily.com/\", \"https://www.nepalipatra.com/\", \"https://www.saralpatrika.com/\", \"https://www.ajakoartha.com/\", \"https://rajdhanidaily.com/\", \"https://nepalipaisa.com/\", \"https://www.aakarpost.com/\", \"https://www.nepalghatana.com/\", \"https://palikakhabar.com/\", \"https://aarthiknews.com/\", \"https://www.makalukhabar.com/\", \"https://mahendranagarpost.com/\", \"https://arthasansar.com/\", \"https://arthasarokar.com/\", \"https://barnanmedia.com/\", \"https://himalpress.com/\", \"https://newspolar.com\", \"https://www.merolifestyle.com/\", \"https://www.corporatenepal.com/\", \"https://www.kathmandupati.com/\", \"https://halokhabar.com/\", \"https://www.sutranews.com/\", \"https://clickmandu.com/\", \"https://www.nepalpage.com/\", \"https://nepalbahas.com/\", \"https://nepalwatch.com/\", \"https://techpana.com/\", \"https://kharibot.com/\", \"https://arthadabali.com/\", \"https://janaaastha.com/\", \"https://nagariknews.nagariknetwork.com/\", \"https://laganisutra.com/\", \"https://www.dainiknepal.com/\", \"https://neplays.com/\", \"https://rashtriyadainik.com/\"]\n",
    "\n",
    "nepberta_urls = [\"https://ekantipur.com/\", \"https://onlinekhabar.com/\", \"https://nagariknews.com/\", \"https://thahakhabar.com/\", \"https://ratopati.com/\", \"https://reportersnepal.com/\", \"https://setopati.com/\", \"https://hamrakura.com/\", \"https://lokpath.com/\", \"https://abhiyandaily.com/\", \"https://pahilopost.com/\", \"https://lokaantar.com/\", \"https://dcnepal.com/\", \"https://nayapage.com/\", \"https://nayapatrikadaily.com/\", \"https://everestdainik.com/\", \"https://imagekhabar.com/\", \"https://shilapatra.com/\", \"https://khabarhub.com/\", \"https://baahrakhari.com/\", \"https://ujyaaloonline.com/\", \"https://nepalkhabar.com/\", \"https://emountaintv.com/\", \"https://kathmandupress.com/\", \"https://farakdhar.com/\", \"https://kendrabindu.com/\", \"https://dhangadhikhabar.com/\", \"https://gorkhapatraonline.com/\", \"https://nepalpress.com/\", \"https://hamrokhelkud.com/\", \"https://himalkhabar.com/\", \"https://nepallive.com/\", \"https://nepalsamaya.com/\", \"https://www.kalakarmi.com/\", \"https://dainiknewsnepal.com/\"]\n",
    "\n",
    "iriis_urls = [\"khabarhub.com\", \"setokhari.com\", \"arghakhanchi.com\", \"janaaastha.com\", \"nepalijanta.com\", \"safalnews.com\", \"lokpath.com\", \"avenues.tv\", \"samudrapari.com\", \"arthasarokar.com\", \"ujyaaloonline.com\", \"kendrabindu.com\", \"nepalviews.com\", \"purbelinews.com\", \"imagekhabar.com\", \"pardafas.com\", \"daunnenews.com\", \"souryaonline.com\", \"sansarnews.com\", \"sancharkendra.com\", \"nayanepalnews.com\", \"hamrakura.com\", \"mysansar.com\", \"rajdhanidaily.com\", \"reportersnepal.com\", \"canadanepal.com\", \"chitawan.com\", \"hamrokhelkud.com\", \"nepalkhabar.com\", \"aajakonews.com\", \"bizshala.com\", \"shikharnews.com\", \"kharibot.com\", \"enepalese.com\", \"emountaintv.com\", \"makalukhabar.com\", \"brtnepal.com\", \"nepalghatana.com\", \"nepalpress.com\", \"kakhara.com\", \"kathmandupati.com\", \"annapurnapost.com\", \"diyopost.com\", \"capitalnepal.com\", \"technologykhabar.com\", \"healthpati.com\", \"samacharpati.com\", \"ekantipur.com\", \"pokharanews.com\", \"spacesamachar.com\", \"onlinekhabar.com\", \"hellokhabar.com\", \"saralpatrika.com\", \"khojtalashonline.com\", \"onlinetvnepal.com\", \"barnanmedia.com\", \"hamrobiratnagar.com\", \"mahendranagarpost.com\", \"ratopati.com\", \"nepalgunjnews.com\", \"madheshvani.com\", \"nepallive.com\", \"nonstopkhabar.com\", \"techpana.com\", \"nagariknews.com\", 'nagariknews.nagariknetwork.com', \"ejanakpuronline.com\", \"bhaktapurpost.com\", \"eadarsha.com\", \"shilapatra.com\", \"nepalsamaya.com\", \"ictsamachar.com\", \"sagarmatha.tv\", \"narimag.com.np\", \"abcnepal.tv\", \"sunaulonepal.com\", \"hamrokhotang.com\", \"bisalnepal.com\", \"nepalihealth.com\", \"nepalwatch.com\", \"baahrakhari.com\", \"kantipath.com\", \"etajakhabar.com\", \"nepalipatra.com\", \"newsofnepal.com\", \"himalkhabar.com\", \"dcnepal.com\", \"gorkhapatraonline.com\", \"everestdainik.com\", \"setopati.com\", \"kathmandupress.com\", \"farakdhar.com\", \"karobardaily.com\", \"palikakhabar.com\", \"onlinemajdoor.com\", \"dainiknepal.com\", \"newskarobar.com\", \"pahilopost.com\", \"pariwartankhabar.com\", \"drishtinews.com\"]\n",
    "\n",
    "\n",
    "# these urls contain alot of pdf and alot of numbers\n",
    "low_quality_urls = [\"https://hib.gov.np/\",\"https://butwalmun.gov.np/\", \"https://hetaudamun.gov.np/\", \"https://hr.parliament.gov.np/\", \"https://www.immigration.gov.np/\", \"https://pppc.bagamati.gov.np/newsandnotices/\",\"http://mahakalimundarchula.gov.np/\",\"https://www.dor.gov.np/home/news\",\"https://np.usembassy.gov/ne/\",\"https://lawcommission.gov.np/np/\",\"https://sabailamun.gov.np/ne/\",\"https://daokathmandu.moha.gov.np/\",\"https://barjumun.gov.np/\",\"https://na.parliament.gov.np/\",\"https://panchkhalmun.gov.np/ne/news-notices\",\"https://moics.gov.np/\",\"https://www.dor.gov.np/\"]"
   ]
  },
  {
   "cell_type": "code",
   "execution_count": 2,
   "metadata": {},
   "outputs": [
    {
     "name": "stdout",
     "output_type": "stream",
     "text": [
      "['khabarhub.com', 'setokhari.com', 'arghakhanchi.com', 'janaaastha.com', 'nepalijanta.com', 'safalnews.com', 'lokpath.com', 'avenues.tv', 'samudrapari.com', 'arthasarokar.com', 'ujyaaloonline.com', 'kendrabindu.com', 'nepalviews.com', 'purbelinews.com', 'imagekhabar.com', 'pardafas.com', 'daunnenews.com', 'souryaonline.com', 'sansarnews.com', 'sancharkendra.com', 'nayanepalnews.com', 'hamrakura.com', 'mysansar.com', 'rajdhanidaily.com', 'reportersnepal.com', 'canadanepal.com', 'chitawan.com', 'hamrokhelkud.com', 'nepalkhabar.com', 'aajakonews.com', 'bizshala.com', 'shikharnews.com', 'kharibot.com', 'enepalese.com', 'emountaintv.com', 'makalukhabar.com', 'brtnepal.com', 'nepalghatana.com', 'nepalpress.com', 'kakhara.com', 'kathmandupati.com', 'annapurnapost.com', 'diyopost.com', 'capitalnepal.com', 'technologykhabar.com', 'healthpati.com', 'samacharpati.com', 'ekantipur.com', 'pokharanews.com', 'spacesamachar.com', 'onlinekhabar.com', 'hellokhabar.com', 'saralpatrika.com', 'khojtalashonline.com', 'onlinetvnepal.com', 'barnanmedia.com', 'hamrobiratnagar.com', 'mahendranagarpost.com', 'ratopati.com', 'nepalgunjnews.com', 'madheshvani.com', 'nepallive.com', 'nonstopkhabar.com', 'techpana.com', 'nagariknews.com', 'nagariknews.nagariknetwork.com', 'ejanakpuronline.com', 'bhaktapurpost.com', 'eadarsha.com', 'shilapatra.com', 'nepalsamaya.com', 'ictsamachar.com', 'sagarmatha.tv', 'narimag.com.np', 'abcnepal.tv', 'sunaulonepal.com', 'hamrokhotang.com', 'bisalnepal.com', 'nepalihealth.com', 'nepalwatch.com', 'baahrakhari.com', 'kantipath.com', 'etajakhabar.com', 'nepalipatra.com', 'newsofnepal.com', 'himalkhabar.com', 'dcnepal.com', 'gorkhapatraonline.com', 'everestdainik.com', 'setopati.com', 'kathmandupress.com', 'farakdhar.com', 'karobardaily.com', 'palikakhabar.com', 'onlinemajdoor.com', 'dainiknepal.com', 'newskarobar.com', 'pahilopost.com', 'pariwartankhabar.com', 'drishtinews.com']\n"
     ]
    },
    {
     "data": {
      "text/plain": [
       "['thahakhabar.com',\n",
       " 'abhiyandaily.com',\n",
       " 'lokaantar.com',\n",
       " 'nayapage.com',\n",
       " 'nayapatrikadaily.com',\n",
       " 'dhangadhikhabar.com',\n",
       " 'kalakarmi.com',\n",
       " 'dainiknewsnepal.com']"
      ]
     },
     "execution_count": 2,
     "metadata": {},
     "output_type": "execute_result"
    }
   ],
   "source": [
    "nepberta_urls_clean = [url.replace(\"https://\", \"\").replace(\"http://\", \"\").replace(\"www.\", \"\").replace(\"/\", \"\") for url in nepberta_urls]\n",
    "iriis_urls_clean = [url.replace(\"https://\", \"\").replace(\"http://\", \"\").replace(\"www.\", \"\").replace(\"/\", \"\") for url in iriis_urls]\n",
    "print(iriis_urls_clean)\n",
    "[url for url in nepberta_urls_clean if url not in iriis_urls_clean]"
   ]
  },
  {
   "cell_type": "code",
   "execution_count": 3,
   "metadata": {},
   "outputs": [
    {
     "name": "stdout",
     "output_type": "stream",
     "text": [
      "\n",
      " our_unique urls: len(31 )\n",
      "['https://www.bbc.com/nepali', 'https://kantipurtv.com/', 'https://www.janaboli.com/', 'https://ekagaj.com/', 'https://swasthyakhabar.com/', 'https://deshsanchar.com/', 'https://www.ukaalo.com/', 'https://www.ukeraa.com/', 'https://cijnepal.org.np/', 'https://www.dekhapadhi.com/', 'https://nepaltvonline.com/', 'https://bizmandu.com/', 'https://www.news24nepal.com/', 'https://www.ajakoartha.com/', 'https://nepalipaisa.com/', 'https://www.aakarpost.com/', 'https://aarthiknews.com/', 'https://arthasansar.com/', 'https://himalpress.com/', 'https://newspolar.com', 'https://www.merolifestyle.com/', 'https://www.corporatenepal.com/', 'https://halokhabar.com/', 'https://www.sutranews.com/', 'https://clickmandu.com/', 'https://www.nepalpage.com/', 'https://nepalbahas.com/', 'https://arthadabali.com/', 'https://laganisutra.com/', 'https://neplays.com/', 'https://rashtriyadainik.com/']\n",
      "\n",
      " nepberta_unique_urls: len(8 )\n",
      "['https://thahakhabar.com/', 'https://abhiyandaily.com/', 'https://lokaantar.com/', 'https://nayapage.com/', 'https://nayapatrikadaily.com/', 'https://dhangadhikhabar.com/', 'https://www.kalakarmi.com/', 'https://dainiknewsnepal.com/']\n",
      "\n",
      " iriis_unique_urls: len(100 )\n",
      "['khabarhub.com', 'setokhari.com', 'arghakhanchi.com', 'janaaastha.com', 'nepalijanta.com', 'safalnews.com', 'lokpath.com', 'avenues.tv', 'samudrapari.com', 'arthasarokar.com', 'ujyaaloonline.com', 'kendrabindu.com', 'nepalviews.com', 'purbelinews.com', 'imagekhabar.com', 'pardafas.com', 'daunnenews.com', 'souryaonline.com', 'sansarnews.com', 'sancharkendra.com', 'nayanepalnews.com', 'hamrakura.com', 'mysansar.com', 'rajdhanidaily.com', 'reportersnepal.com', 'canadanepal.com', 'chitawan.com', 'hamrokhelkud.com', 'nepalkhabar.com', 'aajakonews.com', 'bizshala.com', 'shikharnews.com', 'kharibot.com', 'enepalese.com', 'emountaintv.com', 'makalukhabar.com', 'brtnepal.com', 'nepalghatana.com', 'nepalpress.com', 'kakhara.com', 'kathmandupati.com', 'annapurnapost.com', 'diyopost.com', 'capitalnepal.com', 'technologykhabar.com', 'healthpati.com', 'samacharpati.com', 'ekantipur.com', 'pokharanews.com', 'spacesamachar.com', 'onlinekhabar.com', 'hellokhabar.com', 'saralpatrika.com', 'khojtalashonline.com', 'onlinetvnepal.com', 'barnanmedia.com', 'hamrobiratnagar.com', 'mahendranagarpost.com', 'ratopati.com', 'nepalgunjnews.com', 'madheshvani.com', 'nepallive.com', 'nonstopkhabar.com', 'techpana.com', 'nagariknews.com', 'nagariknews.nagariknetwork.com', 'ejanakpuronline.com', 'bhaktapurpost.com', 'eadarsha.com', 'shilapatra.com', 'nepalsamaya.com', 'ictsamachar.com', 'sagarmatha.tv', 'narimag.com.np', 'abcnepal.tv', 'sunaulonepal.com', 'hamrokhotang.com', 'bisalnepal.com', 'nepalihealth.com', 'nepalwatch.com', 'baahrakhari.com', 'kantipath.com', 'etajakhabar.com', 'nepalipatra.com', 'newsofnepal.com', 'himalkhabar.com', 'dcnepal.com', 'gorkhapatraonline.com', 'everestdainik.com', 'setopati.com', 'kathmandupress.com', 'farakdhar.com', 'karobardaily.com', 'palikakhabar.com', 'onlinemajdoor.com', 'dainiknepal.com', 'newskarobar.com', 'pahilopost.com', 'pariwartankhabar.com', 'drishtinews.com']\n",
      "\n",
      " low_quality_urls_urls: len(17 )\n",
      "['https://hib.gov.np/', 'https://butwalmun.gov.np/', 'https://hetaudamun.gov.np/', 'https://hr.parliament.gov.np/', 'https://www.immigration.gov.np/', 'https://pppc.bagamati.gov.np/newsandnotices/', 'http://mahakalimundarchula.gov.np/', 'https://www.dor.gov.np/home/news', 'https://np.usembassy.gov/ne/', 'https://lawcommission.gov.np/np/', 'https://sabailamun.gov.np/ne/', 'https://daokathmandu.moha.gov.np/', 'https://barjumun.gov.np/', 'https://na.parliament.gov.np/', 'https://panchkhalmun.gov.np/ne/news-notices', 'https://moics.gov.np/', 'https://www.dor.gov.np/']\n"
     ]
    }
   ],
   "source": [
    "other_urls_from_web_clean = [url.replace(\"https://\", \"\").replace(\"http://\", \"\").replace(\"www.\", \"\").replace(\"/\", \"\") for url in other_urls_from_web]\n",
    "nepberta_urls_clean = [url.replace(\"https://\", \"\").replace(\"http://\", \"\").replace(\"www.\", \"\").replace(\"/\", \"\") for url in nepberta_urls]\n",
    "iriis_urls_clean = [url.replace(\"https://\", \"\").replace(\"http://\", \"\").replace(\"www.\", \"\").replace(\"/\", \"\") for url in iriis_urls]\n",
    "low_quality_urls_clean = [url.replace(\"https://\", \"\").replace(\"http://\", \"\").replace(\"www.\", \"\").replace(\"/\", \"\") for url in low_quality_urls]\n",
    "\n",
    "# our unique urls\n",
    "our_unique_urls_clean = [url for url in other_urls_from_web_clean if url not in nepberta_urls_clean and url not in iriis_urls_clean and url not in low_quality_urls_clean]\n",
    "our_unique_urls = [url for url in other_urls_from_web if url.replace(\"https://\", \"\").replace(\"http://\", \"\").replace(\"www.\", \"\").replace(\"/\", \"\") in our_unique_urls_clean]\n",
    "print(f\"\\n our_unique urls: len({len(our_unique_urls)} )\\n{our_unique_urls}\")\n",
    "\n",
    "nepberta_unique_urls_clean = [url for url in nepberta_urls_clean if url not in other_urls_from_web_clean and url not in iriis_urls_clean and url not in low_quality_urls_clean]\n",
    "nepberta_unique_urls = [url for url in nepberta_urls if url.replace(\"https://\", \"\").replace(\"http://\", \"\").replace(\"www.\", \"\").replace(\"/\", \"\") in nepberta_unique_urls_clean]\n",
    "print(f\"\\n nepberta_unique_urls: len({len(nepberta_unique_urls)} )\\n{nepberta_unique_urls}\")\n",
    "\n",
    "iriis_urls_urls_clean = [url for url in iriis_urls_clean if url not in other_urls_from_web_clean and url not in nepberta_urls_clean and url not in low_quality_urls_clean]\n",
    "iriis_unique_urls = [url for url in iriis_urls if url.replace(\"https://\", \"\").replace(\"http://\", \"\").replace(\"www.\", \"\").replace(\"/\", \"\") in iriis_urls_clean]\n",
    "print(f\"\\n iriis_unique_urls: len({len(iriis_unique_urls)} )\\n{iriis_unique_urls}\")\n",
    "\n",
    "low_quality_urls_urls_clean = [url for url in low_quality_urls_clean if url not in other_urls_from_web_clean and url not in nepberta_urls_clean and url not in iriis_urls_clean]\n",
    "low_quality_urls_urls = [url for url in low_quality_urls if url.replace(\"https://\", \"\").replace(\"http://\", \"\").replace(\"www.\", \"\").replace(\"/\", \"\") in low_quality_urls_urls_clean]\n",
    "print(f\"\\n low_quality_urls_urls: len({len(low_quality_urls_urls)} )\\n{low_quality_urls_urls}\")"
   ]
  },
  {
   "cell_type": "code",
   "execution_count": 12,
   "metadata": {},
   "outputs": [],
   "source": [
    "## our unique urls\n",
    "our_unique_urls = ['https://kantipurtv.com/', 'https://www.janaboli.com/', 'https://ekagaj.com/', 'https://swasthyakhabar.com/', 'https://deshsanchar.com/', 'https://www.ukaalo.com/', 'https://www.ukeraa.com/', 'https://cijnepal.org.np/category/nepali-posts/', 'https://www.dekhapadhi.com/', 'https://nepaltvonline.com/', 'https://bizmandu.com/', 'https://www.news24nepal.com/', 'https://www.ajakoartha.com/', 'https://nepalipaisa.com/', 'https://www.aakarpost.com/', 'https://aarthiknews.com/', 'https://arthasansar.com/', 'https://himalpress.com/', 'https://newspolar.com', 'https://www.merolifestyle.com/', 'https://www.corporatenepal.com/', 'https://halokhabar.com/', 'https://www.sutranews.com/', 'https://clickmandu.com/', 'https://www.nepalpage.com/', 'https://nepalbahas.com/', 'https://arthadabali.com/', 'https://nagariknews.nagariknetwork.com/', 'https://laganisutra.com/', 'https://neplays.com/', 'https://rashtriyadainik.com/']\n"
   ]
  },
  {
   "cell_type": "code",
   "execution_count": 18,
   "metadata": {},
   "outputs": [
    {
     "name": "stdout",
     "output_type": "stream",
     "text": [
      "https://kantipurtv.com/fuck/news/1\n"
     ]
    }
   ],
   "source": [
    "from urllib.parse import urljoin\n",
    "\n",
    "base_url = \"https://kantipurtv.com/sitemap\"\n",
    "redirect_url = \"sitemap/news/1\"\n",
    "\n",
    "full_url = urljoin(base_url, redirect_url)\n",
    "print(full_url) # https://kantipurtv.com/sitemap/news/1\n"
   ]
  }
 ],
 "metadata": {
  "kernelspec": {
   "display_name": "machine_env",
   "language": "python",
   "name": "python3"
  },
  "language_info": {
   "codemirror_mode": {
    "name": "ipython",
    "version": 3
   },
   "file_extension": ".py",
   "mimetype": "text/x-python",
   "name": "python",
   "nbconvert_exporter": "python",
   "pygments_lexer": "ipython3",
   "version": "3.10.12"
  }
 },
 "nbformat": 4,
 "nbformat_minor": 2
}
