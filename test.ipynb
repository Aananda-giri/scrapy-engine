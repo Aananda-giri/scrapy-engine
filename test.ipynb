{
 "cells": [
  {
   "cell_type": "code",
   "execution_count": 13,
   "metadata": {},
   "outputs": [
    {
     "data": {
      "text/plain": [
       "\"Whoa! Double trouble! You've already answered! Your current score remains 20. 🔄\""
      ]
     },
     "execution_count": 13,
     "metadata": {},
     "output_type": "execute_result"
    }
   ],
   "source": [
    "import random\n",
    "\n",
    "def generate_response(question=None, correct_answer=None, is_correct=True, current_score=None, has_answered=False):\n",
    "    if has_answered:\n",
    "        reactions = [\n",
    "            \"You've already conquered this one!\",\n",
    "            \"Whoa! Double trouble! You've already answered!\",\n",
    "            \"Impressive memory! You got it right before!\",\n",
    "            \"Nice déjà vu! You've answered this one already!\",\n",
    "        ]\n",
    "        reaction = random.choice(reactions)\n",
    "        message = f\"{reaction} \\n Your current score remains 20. 🔄\"\n",
    "    elif is_correct:\n",
    "        reactions = [\n",
    "            \"Boom! Nailed the AI challenge!\",\n",
    "            \"Holy neural networks! You're on a roll!\",\n",
    "            \"Bingo! You've cracked the AI code!\",\n",
    "            \"Great job, AI maestro! You got it right!\",\n",
    "            \"Impressive! Your AI knowledge is next level!\",\n",
    "            \"Fantastic! You're an AI genius in the making!\",\n",
    "            \"Incredible! You're mastering AI like a pro!\",\n",
    "        ]\n",
    "        reaction = random.choice(reactions)\n",
    "        message = f\"{reaction} Your new score is {current_score}. 🚀\"\n",
    "    else:\n",
    "        reactions = [\n",
    "            \"Whoopsie daisy! The AI overlords remain mysterious!\",\n",
    "            \"Oh snap! Don't worry, even AI experts stumble sometimes!\",\n",
    "            \"Oopsie! The algorithms were tricky this time. Keep going!\",\n",
    "            \"Nice try! The correct AI answer is {correct_answer}.\",\n",
    "            \"Almost there! AI is a tough nut to crack, but you'll get it!\",\n",
    "            \"No worries! AI is a labyrinth, and you're navigating it well!\",\n",
    "            \"Oh no! The AI gremlins got you this time. Try again!\",\n",
    "        ]\n",
    "        reaction = random.choice(reactions)\n",
    "        message = f\"{reaction} \\n\\n the correct answer to question: \\\"{question}\\\" \\n is: \\\"{correct_answer}\\\" \\n\\n your current_score remains: {current_score}\"\n",
    "    return message\n",
    "\n",
    "# # Example Usage:\n",
    "# question = \"What does LSTM stand for in the context of neural networks?\"\n",
    "# correct_answer = \"Long Short-Term Memory\"\n",
    "# is_correct = False  # Change to True to test the correct answer message\n",
    "# has_answered = False\n",
    "# response = generate_response(question, correct_answer, is_correct, 20, has_answered)\n",
    "# print(response)\n",
    "\n",
    "# generate_response(is_correct=True, current_score=10)\n",
    "# generate_response(is_correct=False, current_score=10, question=\"question\", correct_answer=\"correct_answer\")\n",
    "generate_response(has_answered=True, current_score=10)\n"
   ]
  },
  {
   "cell_type": "code",
   "execution_count": null,
   "metadata": {},
   "outputs": [],
   "source": []
  }
 ],
 "metadata": {
  "kernelspec": {
   "display_name": "machine_env",
   "language": "python",
   "name": "python3"
  },
  "language_info": {
   "codemirror_mode": {
    "name": "ipython",
    "version": 3
   },
   "file_extension": ".py",
   "mimetype": "text/x-python",
   "name": "python",
   "nbconvert_exporter": "python",
   "pygments_lexer": "ipython3",
   "version": "3.10.12"
  }
 },
 "nbformat": 4,
 "nbformat_minor": 2
}
