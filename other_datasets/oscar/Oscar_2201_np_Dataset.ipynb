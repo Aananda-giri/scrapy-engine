{
  "nbformat": 4,
  "nbformat_minor": 0,
  "metadata": {
    "colab": {
      "provenance": []
    },
    "kernelspec": {
      "name": "python3",
      "display_name": "Python 3"
    },
    "language_info": {
      "name": "python"
    },
    "widgets": {
      "application/vnd.jupyter.widget-state+json": {
        "6b136d114cc34bf39fc75b8837776299": {
          "model_module": "@jupyter-widgets/controls",
          "model_name": "HBoxModel",
          "model_module_version": "1.5.0",
          "state": {
            "_dom_classes": [],
            "_model_module": "@jupyter-widgets/controls",
            "_model_module_version": "1.5.0",
            "_model_name": "HBoxModel",
            "_view_count": null,
            "_view_module": "@jupyter-widgets/controls",
            "_view_module_version": "1.5.0",
            "_view_name": "HBoxView",
            "box_style": "",
            "children": [
              "IPY_MODEL_9de801100d9749929e28b31ccfd04fe5",
              "IPY_MODEL_48240bc0a82c48cf88b679199b8e2076",
              "IPY_MODEL_84ca4f421cad44e293d0865df8a7db01"
            ],
            "layout": "IPY_MODEL_48a243b9137941f499f262fb832e44bc"
          }
        },
        "9de801100d9749929e28b31ccfd04fe5": {
          "model_module": "@jupyter-widgets/controls",
          "model_name": "HTMLModel",
          "model_module_version": "1.5.0",
          "state": {
            "_dom_classes": [],
            "_model_module": "@jupyter-widgets/controls",
            "_model_module_version": "1.5.0",
            "_model_name": "HTMLModel",
            "_view_count": null,
            "_view_module": "@jupyter-widgets/controls",
            "_view_module_version": "1.5.0",
            "_view_name": "HTMLView",
            "description": "",
            "description_tooltip": null,
            "layout": "IPY_MODEL_b9a2022875eb4d6e931dcf48d2c2e0b5",
            "placeholder": "​",
            "style": "IPY_MODEL_876b859891d5438ca11755a41da919e4",
            "value": "Downloading builder script: 100%"
          }
        },
        "48240bc0a82c48cf88b679199b8e2076": {
          "model_module": "@jupyter-widgets/controls",
          "model_name": "FloatProgressModel",
          "model_module_version": "1.5.0",
          "state": {
            "_dom_classes": [],
            "_model_module": "@jupyter-widgets/controls",
            "_model_module_version": "1.5.0",
            "_model_name": "FloatProgressModel",
            "_view_count": null,
            "_view_module": "@jupyter-widgets/controls",
            "_view_module_version": "1.5.0",
            "_view_name": "ProgressView",
            "bar_style": "success",
            "description": "",
            "description_tooltip": null,
            "layout": "IPY_MODEL_e548cef6cdd942acaa52182a62d686e0",
            "max": 19906,
            "min": 0,
            "orientation": "horizontal",
            "style": "IPY_MODEL_85e03287fd1e4f7ba9109ed5c2742a07",
            "value": 19906
          }
        },
        "84ca4f421cad44e293d0865df8a7db01": {
          "model_module": "@jupyter-widgets/controls",
          "model_name": "HTMLModel",
          "model_module_version": "1.5.0",
          "state": {
            "_dom_classes": [],
            "_model_module": "@jupyter-widgets/controls",
            "_model_module_version": "1.5.0",
            "_model_name": "HTMLModel",
            "_view_count": null,
            "_view_module": "@jupyter-widgets/controls",
            "_view_module_version": "1.5.0",
            "_view_name": "HTMLView",
            "description": "",
            "description_tooltip": null,
            "layout": "IPY_MODEL_b5c162ab49f742ebb31cc9c5f2e35555",
            "placeholder": "​",
            "style": "IPY_MODEL_d21d64b154ea4939b02904cd3d4ebc30",
            "value": " 19.9k/19.9k [00:00&lt;00:00, 169kB/s]"
          }
        },
        "48a243b9137941f499f262fb832e44bc": {
          "model_module": "@jupyter-widgets/base",
          "model_name": "LayoutModel",
          "model_module_version": "1.2.0",
          "state": {
            "_model_module": "@jupyter-widgets/base",
            "_model_module_version": "1.2.0",
            "_model_name": "LayoutModel",
            "_view_count": null,
            "_view_module": "@jupyter-widgets/base",
            "_view_module_version": "1.2.0",
            "_view_name": "LayoutView",
            "align_content": null,
            "align_items": null,
            "align_self": null,
            "border": null,
            "bottom": null,
            "display": null,
            "flex": null,
            "flex_flow": null,
            "grid_area": null,
            "grid_auto_columns": null,
            "grid_auto_flow": null,
            "grid_auto_rows": null,
            "grid_column": null,
            "grid_gap": null,
            "grid_row": null,
            "grid_template_areas": null,
            "grid_template_columns": null,
            "grid_template_rows": null,
            "height": null,
            "justify_content": null,
            "justify_items": null,
            "left": null,
            "margin": null,
            "max_height": null,
            "max_width": null,
            "min_height": null,
            "min_width": null,
            "object_fit": null,
            "object_position": null,
            "order": null,
            "overflow": null,
            "overflow_x": null,
            "overflow_y": null,
            "padding": null,
            "right": null,
            "top": null,
            "visibility": null,
            "width": null
          }
        },
        "b9a2022875eb4d6e931dcf48d2c2e0b5": {
          "model_module": "@jupyter-widgets/base",
          "model_name": "LayoutModel",
          "model_module_version": "1.2.0",
          "state": {
            "_model_module": "@jupyter-widgets/base",
            "_model_module_version": "1.2.0",
            "_model_name": "LayoutModel",
            "_view_count": null,
            "_view_module": "@jupyter-widgets/base",
            "_view_module_version": "1.2.0",
            "_view_name": "LayoutView",
            "align_content": null,
            "align_items": null,
            "align_self": null,
            "border": null,
            "bottom": null,
            "display": null,
            "flex": null,
            "flex_flow": null,
            "grid_area": null,
            "grid_auto_columns": null,
            "grid_auto_flow": null,
            "grid_auto_rows": null,
            "grid_column": null,
            "grid_gap": null,
            "grid_row": null,
            "grid_template_areas": null,
            "grid_template_columns": null,
            "grid_template_rows": null,
            "height": null,
            "justify_content": null,
            "justify_items": null,
            "left": null,
            "margin": null,
            "max_height": null,
            "max_width": null,
            "min_height": null,
            "min_width": null,
            "object_fit": null,
            "object_position": null,
            "order": null,
            "overflow": null,
            "overflow_x": null,
            "overflow_y": null,
            "padding": null,
            "right": null,
            "top": null,
            "visibility": null,
            "width": null
          }
        },
        "876b859891d5438ca11755a41da919e4": {
          "model_module": "@jupyter-widgets/controls",
          "model_name": "DescriptionStyleModel",
          "model_module_version": "1.5.0",
          "state": {
            "_model_module": "@jupyter-widgets/controls",
            "_model_module_version": "1.5.0",
            "_model_name": "DescriptionStyleModel",
            "_view_count": null,
            "_view_module": "@jupyter-widgets/base",
            "_view_module_version": "1.2.0",
            "_view_name": "StyleView",
            "description_width": ""
          }
        },
        "e548cef6cdd942acaa52182a62d686e0": {
          "model_module": "@jupyter-widgets/base",
          "model_name": "LayoutModel",
          "model_module_version": "1.2.0",
          "state": {
            "_model_module": "@jupyter-widgets/base",
            "_model_module_version": "1.2.0",
            "_model_name": "LayoutModel",
            "_view_count": null,
            "_view_module": "@jupyter-widgets/base",
            "_view_module_version": "1.2.0",
            "_view_name": "LayoutView",
            "align_content": null,
            "align_items": null,
            "align_self": null,
            "border": null,
            "bottom": null,
            "display": null,
            "flex": null,
            "flex_flow": null,
            "grid_area": null,
            "grid_auto_columns": null,
            "grid_auto_flow": null,
            "grid_auto_rows": null,
            "grid_column": null,
            "grid_gap": null,
            "grid_row": null,
            "grid_template_areas": null,
            "grid_template_columns": null,
            "grid_template_rows": null,
            "height": null,
            "justify_content": null,
            "justify_items": null,
            "left": null,
            "margin": null,
            "max_height": null,
            "max_width": null,
            "min_height": null,
            "min_width": null,
            "object_fit": null,
            "object_position": null,
            "order": null,
            "overflow": null,
            "overflow_x": null,
            "overflow_y": null,
            "padding": null,
            "right": null,
            "top": null,
            "visibility": null,
            "width": null
          }
        },
        "85e03287fd1e4f7ba9109ed5c2742a07": {
          "model_module": "@jupyter-widgets/controls",
          "model_name": "ProgressStyleModel",
          "model_module_version": "1.5.0",
          "state": {
            "_model_module": "@jupyter-widgets/controls",
            "_model_module_version": "1.5.0",
            "_model_name": "ProgressStyleModel",
            "_view_count": null,
            "_view_module": "@jupyter-widgets/base",
            "_view_module_version": "1.2.0",
            "_view_name": "StyleView",
            "bar_color": null,
            "description_width": ""
          }
        },
        "b5c162ab49f742ebb31cc9c5f2e35555": {
          "model_module": "@jupyter-widgets/base",
          "model_name": "LayoutModel",
          "model_module_version": "1.2.0",
          "state": {
            "_model_module": "@jupyter-widgets/base",
            "_model_module_version": "1.2.0",
            "_model_name": "LayoutModel",
            "_view_count": null,
            "_view_module": "@jupyter-widgets/base",
            "_view_module_version": "1.2.0",
            "_view_name": "LayoutView",
            "align_content": null,
            "align_items": null,
            "align_self": null,
            "border": null,
            "bottom": null,
            "display": null,
            "flex": null,
            "flex_flow": null,
            "grid_area": null,
            "grid_auto_columns": null,
            "grid_auto_flow": null,
            "grid_auto_rows": null,
            "grid_column": null,
            "grid_gap": null,
            "grid_row": null,
            "grid_template_areas": null,
            "grid_template_columns": null,
            "grid_template_rows": null,
            "height": null,
            "justify_content": null,
            "justify_items": null,
            "left": null,
            "margin": null,
            "max_height": null,
            "max_width": null,
            "min_height": null,
            "min_width": null,
            "object_fit": null,
            "object_position": null,
            "order": null,
            "overflow": null,
            "overflow_x": null,
            "overflow_y": null,
            "padding": null,
            "right": null,
            "top": null,
            "visibility": null,
            "width": null
          }
        },
        "d21d64b154ea4939b02904cd3d4ebc30": {
          "model_module": "@jupyter-widgets/controls",
          "model_name": "DescriptionStyleModel",
          "model_module_version": "1.5.0",
          "state": {
            "_model_module": "@jupyter-widgets/controls",
            "_model_module_version": "1.5.0",
            "_model_name": "DescriptionStyleModel",
            "_view_count": null,
            "_view_module": "@jupyter-widgets/base",
            "_view_module_version": "1.2.0",
            "_view_name": "StyleView",
            "description_width": ""
          }
        },
        "41a451f1b3e94d2da3016762b7cb19fc": {
          "model_module": "@jupyter-widgets/controls",
          "model_name": "HBoxModel",
          "model_module_version": "1.5.0",
          "state": {
            "_dom_classes": [],
            "_model_module": "@jupyter-widgets/controls",
            "_model_module_version": "1.5.0",
            "_model_name": "HBoxModel",
            "_view_count": null,
            "_view_module": "@jupyter-widgets/controls",
            "_view_module_version": "1.5.0",
            "_view_name": "HBoxView",
            "box_style": "",
            "children": [
              "IPY_MODEL_5b96af0832424221ae34c1ade30bd983",
              "IPY_MODEL_135457c5a4bf4d5595a7f52631577f57",
              "IPY_MODEL_6b6f3c04bc3e44cc8e0974065dce184c"
            ],
            "layout": "IPY_MODEL_429c571151704897b5f91b75cce7782c"
          }
        },
        "5b96af0832424221ae34c1ade30bd983": {
          "model_module": "@jupyter-widgets/controls",
          "model_name": "HTMLModel",
          "model_module_version": "1.5.0",
          "state": {
            "_dom_classes": [],
            "_model_module": "@jupyter-widgets/controls",
            "_model_module_version": "1.5.0",
            "_model_name": "HTMLModel",
            "_view_count": null,
            "_view_module": "@jupyter-widgets/controls",
            "_view_module_version": "1.5.0",
            "_view_name": "HTMLView",
            "description": "",
            "description_tooltip": null,
            "layout": "IPY_MODEL_91f495ff5999400a9ce22fffc092be4f",
            "placeholder": "​",
            "style": "IPY_MODEL_17c1c4ad2fba4f0ab2ae052b38e96256",
            "value": "Downloading readme: 100%"
          }
        },
        "135457c5a4bf4d5595a7f52631577f57": {
          "model_module": "@jupyter-widgets/controls",
          "model_name": "FloatProgressModel",
          "model_module_version": "1.5.0",
          "state": {
            "_dom_classes": [],
            "_model_module": "@jupyter-widgets/controls",
            "_model_module_version": "1.5.0",
            "_model_name": "FloatProgressModel",
            "_view_count": null,
            "_view_module": "@jupyter-widgets/controls",
            "_view_module_version": "1.5.0",
            "_view_name": "ProgressView",
            "bar_style": "success",
            "description": "",
            "description_tooltip": null,
            "layout": "IPY_MODEL_5dcea1ecbcb44af1be02878cd2925963",
            "max": 31490,
            "min": 0,
            "orientation": "horizontal",
            "style": "IPY_MODEL_a1bab0f4482743e287c0a519a61a9593",
            "value": 31490
          }
        },
        "6b6f3c04bc3e44cc8e0974065dce184c": {
          "model_module": "@jupyter-widgets/controls",
          "model_name": "HTMLModel",
          "model_module_version": "1.5.0",
          "state": {
            "_dom_classes": [],
            "_model_module": "@jupyter-widgets/controls",
            "_model_module_version": "1.5.0",
            "_model_name": "HTMLModel",
            "_view_count": null,
            "_view_module": "@jupyter-widgets/controls",
            "_view_module_version": "1.5.0",
            "_view_name": "HTMLView",
            "description": "",
            "description_tooltip": null,
            "layout": "IPY_MODEL_d42c2b7934554158b43adc42c6720f88",
            "placeholder": "​",
            "style": "IPY_MODEL_f232eb872462468f9eb6312f6fc0a1c2",
            "value": " 31.5k/31.5k [00:00&lt;00:00, 205kB/s]"
          }
        },
        "429c571151704897b5f91b75cce7782c": {
          "model_module": "@jupyter-widgets/base",
          "model_name": "LayoutModel",
          "model_module_version": "1.2.0",
          "state": {
            "_model_module": "@jupyter-widgets/base",
            "_model_module_version": "1.2.0",
            "_model_name": "LayoutModel",
            "_view_count": null,
            "_view_module": "@jupyter-widgets/base",
            "_view_module_version": "1.2.0",
            "_view_name": "LayoutView",
            "align_content": null,
            "align_items": null,
            "align_self": null,
            "border": null,
            "bottom": null,
            "display": null,
            "flex": null,
            "flex_flow": null,
            "grid_area": null,
            "grid_auto_columns": null,
            "grid_auto_flow": null,
            "grid_auto_rows": null,
            "grid_column": null,
            "grid_gap": null,
            "grid_row": null,
            "grid_template_areas": null,
            "grid_template_columns": null,
            "grid_template_rows": null,
            "height": null,
            "justify_content": null,
            "justify_items": null,
            "left": null,
            "margin": null,
            "max_height": null,
            "max_width": null,
            "min_height": null,
            "min_width": null,
            "object_fit": null,
            "object_position": null,
            "order": null,
            "overflow": null,
            "overflow_x": null,
            "overflow_y": null,
            "padding": null,
            "right": null,
            "top": null,
            "visibility": null,
            "width": null
          }
        },
        "91f495ff5999400a9ce22fffc092be4f": {
          "model_module": "@jupyter-widgets/base",
          "model_name": "LayoutModel",
          "model_module_version": "1.2.0",
          "state": {
            "_model_module": "@jupyter-widgets/base",
            "_model_module_version": "1.2.0",
            "_model_name": "LayoutModel",
            "_view_count": null,
            "_view_module": "@jupyter-widgets/base",
            "_view_module_version": "1.2.0",
            "_view_name": "LayoutView",
            "align_content": null,
            "align_items": null,
            "align_self": null,
            "border": null,
            "bottom": null,
            "display": null,
            "flex": null,
            "flex_flow": null,
            "grid_area": null,
            "grid_auto_columns": null,
            "grid_auto_flow": null,
            "grid_auto_rows": null,
            "grid_column": null,
            "grid_gap": null,
            "grid_row": null,
            "grid_template_areas": null,
            "grid_template_columns": null,
            "grid_template_rows": null,
            "height": null,
            "justify_content": null,
            "justify_items": null,
            "left": null,
            "margin": null,
            "max_height": null,
            "max_width": null,
            "min_height": null,
            "min_width": null,
            "object_fit": null,
            "object_position": null,
            "order": null,
            "overflow": null,
            "overflow_x": null,
            "overflow_y": null,
            "padding": null,
            "right": null,
            "top": null,
            "visibility": null,
            "width": null
          }
        },
        "17c1c4ad2fba4f0ab2ae052b38e96256": {
          "model_module": "@jupyter-widgets/controls",
          "model_name": "DescriptionStyleModel",
          "model_module_version": "1.5.0",
          "state": {
            "_model_module": "@jupyter-widgets/controls",
            "_model_module_version": "1.5.0",
            "_model_name": "DescriptionStyleModel",
            "_view_count": null,
            "_view_module": "@jupyter-widgets/base",
            "_view_module_version": "1.2.0",
            "_view_name": "StyleView",
            "description_width": ""
          }
        },
        "5dcea1ecbcb44af1be02878cd2925963": {
          "model_module": "@jupyter-widgets/base",
          "model_name": "LayoutModel",
          "model_module_version": "1.2.0",
          "state": {
            "_model_module": "@jupyter-widgets/base",
            "_model_module_version": "1.2.0",
            "_model_name": "LayoutModel",
            "_view_count": null,
            "_view_module": "@jupyter-widgets/base",
            "_view_module_version": "1.2.0",
            "_view_name": "LayoutView",
            "align_content": null,
            "align_items": null,
            "align_self": null,
            "border": null,
            "bottom": null,
            "display": null,
            "flex": null,
            "flex_flow": null,
            "grid_area": null,
            "grid_auto_columns": null,
            "grid_auto_flow": null,
            "grid_auto_rows": null,
            "grid_column": null,
            "grid_gap": null,
            "grid_row": null,
            "grid_template_areas": null,
            "grid_template_columns": null,
            "grid_template_rows": null,
            "height": null,
            "justify_content": null,
            "justify_items": null,
            "left": null,
            "margin": null,
            "max_height": null,
            "max_width": null,
            "min_height": null,
            "min_width": null,
            "object_fit": null,
            "object_position": null,
            "order": null,
            "overflow": null,
            "overflow_x": null,
            "overflow_y": null,
            "padding": null,
            "right": null,
            "top": null,
            "visibility": null,
            "width": null
          }
        },
        "a1bab0f4482743e287c0a519a61a9593": {
          "model_module": "@jupyter-widgets/controls",
          "model_name": "ProgressStyleModel",
          "model_module_version": "1.5.0",
          "state": {
            "_model_module": "@jupyter-widgets/controls",
            "_model_module_version": "1.5.0",
            "_model_name": "ProgressStyleModel",
            "_view_count": null,
            "_view_module": "@jupyter-widgets/base",
            "_view_module_version": "1.2.0",
            "_view_name": "StyleView",
            "bar_color": null,
            "description_width": ""
          }
        },
        "d42c2b7934554158b43adc42c6720f88": {
          "model_module": "@jupyter-widgets/base",
          "model_name": "LayoutModel",
          "model_module_version": "1.2.0",
          "state": {
            "_model_module": "@jupyter-widgets/base",
            "_model_module_version": "1.2.0",
            "_model_name": "LayoutModel",
            "_view_count": null,
            "_view_module": "@jupyter-widgets/base",
            "_view_module_version": "1.2.0",
            "_view_name": "LayoutView",
            "align_content": null,
            "align_items": null,
            "align_self": null,
            "border": null,
            "bottom": null,
            "display": null,
            "flex": null,
            "flex_flow": null,
            "grid_area": null,
            "grid_auto_columns": null,
            "grid_auto_flow": null,
            "grid_auto_rows": null,
            "grid_column": null,
            "grid_gap": null,
            "grid_row": null,
            "grid_template_areas": null,
            "grid_template_columns": null,
            "grid_template_rows": null,
            "height": null,
            "justify_content": null,
            "justify_items": null,
            "left": null,
            "margin": null,
            "max_height": null,
            "max_width": null,
            "min_height": null,
            "min_width": null,
            "object_fit": null,
            "object_position": null,
            "order": null,
            "overflow": null,
            "overflow_x": null,
            "overflow_y": null,
            "padding": null,
            "right": null,
            "top": null,
            "visibility": null,
            "width": null
          }
        },
        "f232eb872462468f9eb6312f6fc0a1c2": {
          "model_module": "@jupyter-widgets/controls",
          "model_name": "DescriptionStyleModel",
          "model_module_version": "1.5.0",
          "state": {
            "_model_module": "@jupyter-widgets/controls",
            "_model_module_version": "1.5.0",
            "_model_name": "DescriptionStyleModel",
            "_view_count": null,
            "_view_module": "@jupyter-widgets/base",
            "_view_module_version": "1.2.0",
            "_view_name": "StyleView",
            "description_width": ""
          }
        }
      }
    }
  },
  "cells": [
    {
      "cell_type": "markdown",
      "source": [
        "## Oscar Dataset\n",
        "* Contains 3.7 GB of nepali dataset\n",
        "* [hf](https://huggingface.co/datasets/oscar-corpus/OSCAR-2201)\n",
        "\n",
        "\n",
        "# the plan\n",
        "```\n",
        "for data in datas:\n",
        "  [X] Save oscar dataset to a csv file:\n",
        "    url, text\n",
        "  * store oscar crawled_url in bloom function\n",
        "  * url for url in to_crawl if url not in oscar_bloom_function\n",
        "  * save_to_db([url for url in to_crawl? of url not in oscar_bloom_function])\n",
        "```"
      ],
      "metadata": {
        "id": "JBV2GJKiD6dY"
      }
    },
    {
      "cell_type": "code",
      "source": [
        "!pip install datasets --quiet\n",
        "!pip install pybloom-live --quiet"
      ],
      "metadata": {
        "id": "pwcmo79NEGTu",
        "colab": {
          "base_uri": "https://localhost:8080/"
        },
        "outputId": "2cc36eb7-d57d-4f5e-ec80-a230c48ffc2c"
      },
      "execution_count": 6,
      "outputs": [
        {
          "output_type": "stream",
          "name": "stdout",
          "text": [
            "\u001b[?25l   \u001b[90m━━━━━━━━━━━━━━━━━━━━━━━━━━━━━━━━━━━━━━━━\u001b[0m \u001b[32m0.0/471.6 kB\u001b[0m \u001b[31m?\u001b[0m eta \u001b[36m-:--:--\u001b[0m\r\u001b[2K   \u001b[91m━━━━━━━━━━━━━━━━━━━━━━━━━━━━━━━━━━━━\u001b[0m\u001b[90m╺\u001b[0m\u001b[90m━━━\u001b[0m \u001b[32m430.1/471.6 kB\u001b[0m \u001b[31m13.1 MB/s\u001b[0m eta \u001b[36m0:00:01\u001b[0m\r\u001b[2K   \u001b[90m━━━━━━━━━━━━━━━━━━━━━━━━━━━━━━━━━━━━━━━━\u001b[0m \u001b[32m471.6/471.6 kB\u001b[0m \u001b[31m8.5 MB/s\u001b[0m eta \u001b[36m0:00:00\u001b[0m\n",
            "\u001b[2K   \u001b[90m━━━━━━━━━━━━━━━━━━━━━━━━━━━━━━━━━━━━━━━━\u001b[0m \u001b[32m116.3/116.3 kB\u001b[0m \u001b[31m7.9 MB/s\u001b[0m eta \u001b[36m0:00:00\u001b[0m\n",
            "\u001b[2K   \u001b[90m━━━━━━━━━━━━━━━━━━━━━━━━━━━━━━━━━━━━━━━━\u001b[0m \u001b[32m134.8/134.8 kB\u001b[0m \u001b[31m9.1 MB/s\u001b[0m eta \u001b[36m0:00:00\u001b[0m\n",
            "\u001b[2K   \u001b[90m━━━━━━━━━━━━━━━━━━━━━━━━━━━━━━━━━━━━━━━━\u001b[0m \u001b[32m194.1/194.1 kB\u001b[0m \u001b[31m11.7 MB/s\u001b[0m eta \u001b[36m0:00:00\u001b[0m\n",
            "\u001b[?25h  Preparing metadata (setup.py) ... \u001b[?25l\u001b[?25hdone\n",
            "\u001b[2K   \u001b[90m━━━━━━━━━━━━━━━━━━━━━━━━━━━━━━━━━━━━━━━━\u001b[0m \u001b[32m288.4/288.4 kB\u001b[0m \u001b[31m5.2 MB/s\u001b[0m eta \u001b[36m0:00:00\u001b[0m\n",
            "\u001b[?25h  Building wheel for pybloom-live (setup.py) ... \u001b[?25l\u001b[?25hdone\n"
          ]
        }
      ]
    },
    {
      "cell_type": "code",
      "source": [
        "%cd /content/drive/MyDrive/Research/datasets/crwled_by_others/oscar"
      ],
      "metadata": {
        "colab": {
          "base_uri": "https://localhost:8080/"
        },
        "id": "pRZKw8hUXNNR",
        "outputId": "1cad43a3-dadf-4595-f779-993233cccf80"
      },
      "execution_count": 3,
      "outputs": [
        {
          "output_type": "stream",
          "name": "stdout",
          "text": [
            "/content/drive/MyDrive/Research/datasets/crwled_by_others/oscar\n"
          ]
        }
      ]
    },
    {
      "cell_type": "code",
      "source": [
        "from bloom import get_bloom_thread\n",
        "\n",
        "n = 200_000_000  # expected number of elements\n",
        "p = 0.000001       # false positive probability\n",
        "save_file = 'bloom_filter.pkl'\n",
        "\n",
        "bloom_filter = get_bloom_thread(n, p, save_file)\n",
        "bloom_filter.add('123')\n",
        "print('123' in bloom_filter)\n",
        "bloom_filter.size()"
      ],
      "metadata": {
        "colab": {
          "base_uri": "https://localhost:8080/"
        },
        "id": "vTk3CjUJboaE",
        "outputId": "ccdc6d6d-28e5-48c9-923d-5ab5e640ac6a"
      },
      "execution_count": null,
      "outputs": [
        {
          "output_type": "stream",
          "name": "stdout",
          "text": [
            "============================================================\n",
            "\t\t Creaetd new bloom filter\n",
            "============================================================\n",
            "\n",
            "True\n"
          ]
        },
        {
          "output_type": "execute_result",
          "data": {
            "text/plain": [
              "45"
            ]
          },
          "metadata": {},
          "execution_count": 3
        }
      ]
    },
    {
      "cell_type": "code",
      "source": [
        "# Function to save to csv\n",
        "import csv\n",
        "import os\n",
        "\n",
        "def save_to_csv(file_path, url, text):\n",
        "    # Define the headers for the CSV file\n",
        "    headers = ['url', 'text']\n",
        "\n",
        "    # Check if the file exists\n",
        "    file_exists = os.path.isfile(file_path)\n",
        "\n",
        "    # Open the file in append mode\n",
        "    with open(file_path, mode='a', newline='', encoding='utf-8') as file:\n",
        "        writer = csv.writer(file, escapechar='\\\\')\n",
        "\n",
        "        # If the file does not exist, write the headers\n",
        "        if not file_exists:\n",
        "            writer.writerow(headers)\n",
        "\n",
        "        # Write the URL and text to the CSV file\n",
        "        writer.writerow([url, text])\n",
        "\n",
        "# Example usage\n",
        "# save_to_csv('data.csv', 'http://example.com', 'This is an example text.')\n"
      ],
      "metadata": {
        "id": "5fYmXiZlfhYO"
      },
      "execution_count": null,
      "outputs": []
    },
    {
      "cell_type": "code",
      "source": [
        "from datasets import load_dataset\n",
        "from google.colab import userdata\n",
        "\n",
        "dataset = load_dataset(\"oscar-corpus/OSCAR-2201\",\n",
        "                        token=userdata.get('HUGGING_FACE_BEARER'), # HUGGINGFACE_API_KEY\n",
        "                        language=\"ne\",\n",
        "                        streaming=True, # optional\n",
        "                        trust_remote_code=True,\n",
        "                        split=\"train\") # optional, but the dataset only has a train split\n",
        "n=0\n",
        "for d in dataset:\n",
        "    '''\n",
        "     Dict with keys: ['id' <int>, 'text': <str>, 'meta']\n",
        "     url = a['meta']['warc_headers']['warc-target-uri']# e.g. https://www.himalkhabar.com/news/118067\n",
        "    '''\n",
        "    n+=1\n",
        "    url = d['meta']['warc_headers']['warc-target-uri']\n",
        "    text = d['text']\n",
        "    if url not in bloom_filter:\n",
        "      bloom_filter.add(url)\n",
        "      save_to_csv('oscar_2201_ne_data.csv', url, text.replace('|', '।'))\n",
        "    if n % 10000 == 0:\n",
        "      print(f'n: {n} saved:{n*10000}')\n",
        "\n",
        "# Save bloom_filter\n",
        "bloom_filter.save_bloom_filter()"
      ],
      "metadata": {
        "colab": {
          "base_uri": "https://localhost:8080/",
          "height": 870,
          "referenced_widgets": [
            "6b136d114cc34bf39fc75b8837776299",
            "9de801100d9749929e28b31ccfd04fe5",
            "48240bc0a82c48cf88b679199b8e2076",
            "84ca4f421cad44e293d0865df8a7db01",
            "48a243b9137941f499f262fb832e44bc",
            "b9a2022875eb4d6e931dcf48d2c2e0b5",
            "876b859891d5438ca11755a41da919e4",
            "e548cef6cdd942acaa52182a62d686e0",
            "85e03287fd1e4f7ba9109ed5c2742a07",
            "b5c162ab49f742ebb31cc9c5f2e35555",
            "d21d64b154ea4939b02904cd3d4ebc30",
            "41a451f1b3e94d2da3016762b7cb19fc",
            "5b96af0832424221ae34c1ade30bd983",
            "135457c5a4bf4d5595a7f52631577f57",
            "6b6f3c04bc3e44cc8e0974065dce184c",
            "429c571151704897b5f91b75cce7782c",
            "91f495ff5999400a9ce22fffc092be4f",
            "17c1c4ad2fba4f0ab2ae052b38e96256",
            "5dcea1ecbcb44af1be02878cd2925963",
            "a1bab0f4482743e287c0a519a61a9593",
            "d42c2b7934554158b43adc42c6720f88",
            "f232eb872462468f9eb6312f6fc0a1c2"
          ]
        },
        "id": "Q8ER7nsyHXqs",
        "outputId": "45f9240d-80fe-464c-d603-ca4fab8b3b9e"
      },
      "execution_count": null,
      "outputs": [
        {
          "output_type": "display_data",
          "data": {
            "text/plain": [
              "Downloading builder script:   0%|          | 0.00/19.9k [00:00<?, ?B/s]"
            ],
            "application/vnd.jupyter.widget-view+json": {
              "version_major": 2,
              "version_minor": 0,
              "model_id": "6b136d114cc34bf39fc75b8837776299"
            }
          },
          "metadata": {}
        },
        {
          "output_type": "display_data",
          "data": {
            "text/plain": [
              "Downloading readme:   0%|          | 0.00/31.5k [00:00<?, ?B/s]"
            ],
            "application/vnd.jupyter.widget-view+json": {
              "version_major": 2,
              "version_minor": 0,
              "model_id": "41a451f1b3e94d2da3016762b7cb19fc"
            }
          },
          "metadata": {}
        },
        {
          "output_type": "stream",
          "name": "stdout",
          "text": [
            "n: 10000 saved:100000000\n",
            "n: 20000 saved:200000000\n",
            "n: 30000 saved:300000000\n",
            "n: 40000 saved:400000000\n",
            "n: 50000 saved:500000000\n",
            "n: 60000 saved:600000000\n",
            "n: 70000 saved:700000000\n",
            "n: 80000 saved:800000000\n",
            "n: 90000 saved:900000000\n",
            "n: 100000 saved:1000000000\n",
            "n: 110000 saved:1100000000\n",
            "n: 120000 saved:1200000000\n",
            "n: 130000 saved:1300000000\n",
            "n: 140000 saved:1400000000\n",
            "n: 150000 saved:1500000000\n",
            "n: 160000 saved:1600000000\n",
            "n: 170000 saved:1700000000\n",
            "n: 180000 saved:1800000000\n",
            "n: 190000 saved:1900000000\n",
            "n: 200000 saved:2000000000\n",
            "n: 210000 saved:2100000000\n",
            "n: 220000 saved:2200000000\n",
            "n: 230000 saved:2300000000\n",
            "n: 240000 saved:2400000000\n",
            "n: 250000 saved:2500000000\n",
            "n: 260000 saved:2600000000\n",
            "n: 270000 saved:2700000000\n",
            "n: 280000 saved:2800000000\n",
            "n: 290000 saved:2900000000\n",
            "n: 300000 saved:3000000000\n",
            "n: 310000 saved:3100000000\n",
            "n: 320000 saved:3200000000\n",
            "n: 330000 saved:3300000000\n",
            "n: 340000 saved:3400000000\n",
            "n: 350000 saved:3500000000\n",
            "n: 360000 saved:3600000000\n",
            "n: 370000 saved:3700000000\n",
            "n: 380000 saved:3800000000\n",
            "n: 390000 saved:3900000000\n",
            "============================================================\n",
            "Bloom filter saved to file: bloom_filter.pkl\n",
            "============================================================\n",
            "\n"
          ]
        }
      ]
    },
    {
      "cell_type": "code",
      "source": [
        "!ls"
      ],
      "metadata": {
        "colab": {
          "base_uri": "https://localhost:8080/"
        },
        "id": "ZNaEbpF8brcO",
        "outputId": "8d2f38fd-d9c5-42a0-9ec1-d446e5d56ba9"
      },
      "execution_count": 4,
      "outputs": [
        {
          "output_type": "stream",
          "name": "stdout",
          "text": [
            "bloom_filter.0pkl  bloom.py\t\t   Oscar-2201-np-Dataset.ipynb\n",
            "bloom_filter.pkl   oscar_2201_ne_data.csv  __pycache__\n"
          ]
        }
      ]
    },
    {
      "cell_type": "code",
      "source": [
        "from bloom import BloomFilterThread\n",
        "import csv\n",
        "import sys\n",
        "\n",
        "# Increase CSV field size limit\n",
        "csv.field_size_limit(sys.maxsize)\n",
        "\n",
        "# Count how many urls from oscar dataset are in bloom filter\n",
        "count = 0\n",
        "total_urls = 0\n",
        "\n",
        "# load bloom filter\n",
        "bloom_filter = BloomFilterThread(save_file='bloom_filter.pkl')\n",
        "\n",
        "# Load dataset from csv file\n",
        "with open('oscar_2201_ne_data.csv', 'r', encoding='utf-8', errors='replace') as csvfile:\n",
        "    reader = csv.reader((line.replace('\\0', '') for line in csvfile))\n",
        "    next(reader, None)  # Skip the header row\n",
        "    for row in reader:\n",
        "        try:\n",
        "            total_urls += 1\n",
        "            if row:  # Check if the row is not empty\n",
        "                url = row[0]\n",
        "                if url in bloom_filter:\n",
        "                    count += 1\n",
        "            if total_urls % 10000 == 0:\n",
        "                print(f'total_urls: {total_urls}, count: {count}', end='\\r')\n",
        "        except csv.Error as e:\n",
        "            print(f\"Error reading row {total_urls}: {e}\")\n",
        "            continue\n",
        "\n",
        "print(f'\\n\\nNumber of URLs from Oscar dataset in bloom filter: {count}')\n",
        "print(f'Total URLs from Oscar dataset: {total_urls}')"
      ],
      "metadata": {
        "colab": {
          "base_uri": "https://localhost:8080/"
        },
        "id": "YsmlOOGtZ7XT",
        "outputId": "25f4dff5-de8c-4a60-8a01-91f06a87ae96"
      },
      "execution_count": 11,
      "outputs": [
        {
          "output_type": "stream",
          "name": "stdout",
          "text": [
            "============================================================\n",
            "Bloom filter loaded from file: bloom_filter.pkl\n",
            "============================================================\n",
            "\n",
            "total_urls: 400000, count: 400000\n",
            "\n",
            "Number of URLs from Oscar dataset in bloom filter: 401606\n",
            "Total URLs from Oscar dataset: 401606\n"
          ]
        }
      ]
    },
    {
      "cell_type": "code",
      "source": [
        "# EC2\n",
        "\n",
        "from bloom import BloomFilterThread\n",
        "\n",
        "# load bloom filter\n",
        "oscar_bloom_filter = BloomFilterThread(save_file='oscar_bloom_filter.pkl')\n",
        "\n",
        "url = 'https://www.himalkhabar.com/news/118067'\n",
        "url in oscar_bloom_filter"
      ],
      "metadata": {
        "colab": {
          "base_uri": "https://localhost:8080/"
        },
        "id": "A2rhatI1fP67",
        "outputId": "defa3076-8e1e-4f5b-eab2-c7255a976e10"
      },
      "execution_count": 21,
      "outputs": [
        {
          "output_type": "stream",
          "name": "stdout",
          "text": [
            "============================================================\n",
            "Bloom filter loaded from file: bloom_filter.pkl\n",
            "============================================================\n",
            "\n"
          ]
        },
        {
          "output_type": "execute_result",
          "data": {
            "text/plain": [
              "True"
            ]
          },
          "metadata": {},
          "execution_count": 21
        }
      ]
    }
  ]
}